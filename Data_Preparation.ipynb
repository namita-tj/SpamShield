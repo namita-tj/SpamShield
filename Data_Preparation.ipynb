{
  "nbformat": 4,
  "nbformat_minor": 0,
  "metadata": {
    "colab": {
      "provenance": [],
      "include_colab_link": true
    },
    "kernelspec": {
      "name": "python3",
      "display_name": "Python 3"
    }
  },
  "cells": [
    {
      "cell_type": "markdown",
      "metadata": {
        "id": "view-in-github",
        "colab_type": "text"
      },
      "source": [
        "<a href=\"https://colab.research.google.com/github/namita-tj/SpamShield/blob/main/Data_Preparation.ipynb\" target=\"_parent\"><img src=\"https://colab.research.google.com/assets/colab-badge.svg\" alt=\"Open In Colab\"/></a>"
      ]
    },
    {
      "cell_type": "markdown",
      "metadata": {
        "id": "37puETfgRzzg"
      },
      "source": [
        "##**Data Preprocessing Tools**"
      ]
    },
    {
      "cell_type": "markdown",
      "metadata": {
        "id": "EoRP98MpR-qj"
      },
      "source": [
        "**Importing the libraries:**\n",
        "\n",
        "In order to perform data preprocessing using Python, we need to import some predefined Python libraries."
      ]
    },
    {
      "cell_type": "code",
      "metadata": {
        "id": "N-qiINBQSK2g"
      },
      "source": [
        "import numpy as np # used for handling numbers\n",
        "import pandas as pd # used for handling the dataset\n",
        "from sklearn.impute import SimpleImputer # used for handling missing data\n",
        "from sklearn.preprocessing import LabelEncoder, OneHotEncoder # used for encoding categorical data\n",
        "from sklearn.model_selection import train_test_split # used for splitting training and testing data\n",
        "from sklearn.preprocessing import StandardScaler # used for feature scaling\n",
        "from sklearn.preprocessing import Normalizer # used for feature scaling"
      ],
      "execution_count": null,
      "outputs": []
    },
    {
      "cell_type": "markdown",
      "metadata": {
        "id": "RopL7tUZSQkT"
      },
      "source": [
        "**Importing the dataset:**\n",
        "\n",
        "To create a machine learning model, the first thing we required is a dataset as a machine learning model completely works on data. The collected data for a particular problem in a proper format is known as the dataset."
      ]
    },
    {
      "cell_type": "code",
      "metadata": {
        "id": "WwEPNDWySTKm"
      },
      "source": [
        "dataset = pd.read_csv('Data.csv') # to import the dataset into a variable\n",
        "# Splitting the attributes into independent and dependent attributes\n",
        "X = dataset.iloc[:, :-1].values # attributes to determine dependent variable / Class\n",
        "Y = dataset.iloc[:, -1].values # dependent variable / Class"
      ],
      "execution_count": null,
      "outputs": []
    },
    {
      "cell_type": "code",
      "metadata": {
        "id": "hCsz2yCebe1R",
        "colab": {
          "base_uri": "https://localhost:8080/"
        },
        "outputId": "e65279f9-bd00-43ea-9d6d-0fe23a4178cf"
      },
      "source": [
        "print(X)"
      ],
      "execution_count": null,
      "outputs": [
        {
          "output_type": "stream",
          "name": "stdout",
          "text": [
            "[['France' 44.0 72000.0]\n",
            " ['Spain' 27.0 48000.0]\n",
            " ['Germany' 30.0 54000.0]\n",
            " ['Spain' 38.0 61000.0]\n",
            " ['Germany' 40.0 nan]\n",
            " ['France' 35.0 58000.0]\n",
            " ['Spain' nan 52000.0]\n",
            " ['France' 48.0 79000.0]\n",
            " ['Germany' 50.0 83000.0]\n",
            " ['France' 37.0 67000.0]]\n"
          ]
        }
      ]
    },
    {
      "cell_type": "code",
      "metadata": {
        "id": "eYrOQ43XcJR3",
        "colab": {
          "base_uri": "https://localhost:8080/"
        },
        "outputId": "bafb26ce-a22f-4f12-b351-b3ce2aefbd91"
      },
      "source": [
        "print(Y)"
      ],
      "execution_count": null,
      "outputs": [
        {
          "output_type": "stream",
          "name": "stdout",
          "text": [
            "['No' 'Yes' 'No' 'No' 'Yes' 'Yes' 'No' 'Yes' 'No' 'Yes']\n"
          ]
        }
      ]
    },
    {
      "cell_type": "markdown",
      "metadata": {
        "id": "nhfKXNxlSabC"
      },
      "source": [
        "**Handling of Missing Data:**\n",
        "\n",
        "If our dataset contains some missing data, then it may create a huge problem for our machine learning model. So the missing values are to dealt properly. There are mainly two ways to handle missing data, which are:\n",
        "\n",
        "*  By deleting the particular row\n",
        "*  By calculating the mean/median/mode of the column\n",
        "\n",
        "If the number of rows having the missing values are less, or it is advised not to fill in missing values, then we can drop the missing rows by using dropna() in pandas."
      ]
    },
    {
      "cell_type": "code",
      "metadata": {
        "id": "c93k7ipkSexq"
      },
      "source": [
        "#from sklearn.impute import SimpleImputer\n",
        "# handling the missing data and replace missing values with nan from numpy and replace with mean of all the other values\n",
        "imputer = SimpleImputer(missing_values=np.nan, strategy='mean')\n",
        "#Fitting imputer object to the independent variables\n",
        "imputer.fit(X[:, 1:3])\n",
        "#Replacing missing data with the calculated mean value\n",
        "X[:, 1:3] = imputer.transform(X[:, 1:3])"
      ],
      "execution_count": null,
      "outputs": []
    },
    {
      "cell_type": "code",
      "metadata": {
        "id": "3UgLdMS_bjq_",
        "colab": {
          "base_uri": "https://localhost:8080/"
        },
        "outputId": "93f6f5d1-ca7f-441a-85e5-89ddeb7f23d5"
      },
      "source": [
        "print(X)"
      ],
      "execution_count": null,
      "outputs": [
        {
          "output_type": "stream",
          "name": "stdout",
          "text": [
            "[['France' 44.0 72000.0]\n",
            " ['Spain' 27.0 48000.0]\n",
            " ['Germany' 30.0 54000.0]\n",
            " ['Spain' 38.0 61000.0]\n",
            " ['Germany' 40.0 63777.77777777778]\n",
            " ['France' 35.0 58000.0]\n",
            " ['Spain' 38.77777777777778 52000.0]\n",
            " ['France' 48.0 79000.0]\n",
            " ['Germany' 50.0 83000.0]\n",
            " ['France' 37.0 67000.0]]\n"
          ]
        }
      ]
    },
    {
      "cell_type": "markdown",
      "metadata": {
        "id": "CriG6VzVSjcK"
      },
      "source": [
        "**Handling of Categorical Data:**\n",
        "\n",
        "Categorical data is data which has some categories such as, in our dataset; there are two categorical variable, Country, and Purchased.\n",
        "\n",
        "Since machine learning models are based on mathematical equations it's intuitive that it would cause some problem if we keep the text here in the equations. So, we need to encode the categorical variables into numbers.\n",
        "\n",
        "There are 2 common ways to do so.\n",
        "\n",
        "*   Label Encoding\n",
        "*   One Hot Encoding\n",
        "\n"
      ]
    },
    {
      "cell_type": "markdown",
      "metadata": {
        "id": "AhSpdQWeSsFh"
      },
      "source": [
        "### Encoding the Independent Variable"
      ]
    },
    {
      "cell_type": "code",
      "metadata": {
        "id": "5hwuVddlSwVi"
      },
      "source": [
        "# encode categorical data\n",
        "#from sklearn.preprocessing import LabelEncoder, OneHotEncoder\n",
        "labelencoder_X = LabelEncoder()\n",
        "X[:, 0] = labelencoder_X.fit_transform(X[:, 0])"
      ],
      "execution_count": null,
      "outputs": []
    },
    {
      "cell_type": "code",
      "metadata": {
        "id": "f7QspewyeBfx",
        "colab": {
          "base_uri": "https://localhost:8080/"
        },
        "outputId": "c444aae3-f378-4f90-aa06-7d7b45e882e0"
      },
      "source": [
        "print(X)"
      ],
      "execution_count": null,
      "outputs": [
        {
          "output_type": "stream",
          "name": "stdout",
          "text": [
            "[[0 44.0 72000.0]\n",
            " [2 27.0 48000.0]\n",
            " [1 30.0 54000.0]\n",
            " [2 38.0 61000.0]\n",
            " [1 40.0 63777.77777777778]\n",
            " [0 35.0 58000.0]\n",
            " [2 38.77777777777778 52000.0]\n",
            " [0 48.0 79000.0]\n",
            " [1 50.0 83000.0]\n",
            " [0 37.0 67000.0]]\n"
          ]
        }
      ]
    },
    {
      "cell_type": "markdown",
      "source": [
        "In our dataset, there are three country variables which are encoded into 0, 1, and 2. By these values, the machine learning model may assume that there is some correlation between these variables which will produce the wrong output. So to remove this issue,  dummy encoding can be used."
      ],
      "metadata": {
        "id": "u9rj4DVp60Cx"
      }
    },
    {
      "cell_type": "code",
      "source": [
        "from sklearn.compose import ColumnTransformer\n",
        "ct = ColumnTransformer(transformers=[('encoder', OneHotEncoder(), [0])], remainder='passthrough')\n",
        "X = np.array(ct.fit_transform(X))"
      ],
      "metadata": {
        "id": "-OhoqPMj6Ry2"
      },
      "execution_count": null,
      "outputs": []
    },
    {
      "cell_type": "code",
      "source": [
        "print(X)"
      ],
      "metadata": {
        "colab": {
          "base_uri": "https://localhost:8080/"
        },
        "id": "Lbbz22ci6VLL",
        "outputId": "ade23e33-a3b8-485d-b5f4-116de769ce0c"
      },
      "execution_count": null,
      "outputs": [
        {
          "output_type": "stream",
          "name": "stdout",
          "text": [
            "[[1.0 0.0 0.0 44.0 72000.0]\n",
            " [0.0 0.0 1.0 27.0 48000.0]\n",
            " [0.0 1.0 0.0 30.0 54000.0]\n",
            " [0.0 0.0 1.0 38.0 61000.0]\n",
            " [0.0 1.0 0.0 40.0 63777.77777777778]\n",
            " [1.0 0.0 0.0 35.0 58000.0]\n",
            " [0.0 0.0 1.0 38.77777777777778 52000.0]\n",
            " [1.0 0.0 0.0 48.0 79000.0]\n",
            " [0.0 1.0 0.0 50.0 83000.0]\n",
            " [1.0 0.0 0.0 37.0 67000.0]]\n"
          ]
        }
      ]
    },
    {
      "cell_type": "markdown",
      "metadata": {
        "id": "DXh8oVSITIc6"
      },
      "source": [
        "### Encoding the Dependent Variable"
      ]
    },
    {
      "cell_type": "code",
      "metadata": {
        "id": "XgHCShVyTOYY"
      },
      "source": [
        "labelencoder_Y = LabelEncoder()\n",
        "Y = labelencoder_Y.fit_transform(Y)"
      ],
      "execution_count": null,
      "outputs": []
    },
    {
      "cell_type": "code",
      "metadata": {
        "id": "FyhY8-gPpFCa",
        "colab": {
          "base_uri": "https://localhost:8080/"
        },
        "outputId": "46be329c-4375-41c9-f017-ae1de07b2980"
      },
      "source": [
        "print(Y)"
      ],
      "execution_count": null,
      "outputs": [
        {
          "output_type": "stream",
          "name": "stdout",
          "text": [
            "[0 1 0 0 1 1 0 1 0 1]\n"
          ]
        }
      ]
    },
    {
      "cell_type": "markdown",
      "metadata": {
        "id": "qb_vcgm3qZKW"
      },
      "source": [
        "**Splitting the dataset into the Training set and Test set:**\n",
        "\n",
        "Any machine learning algorithm needs to be tested for accuracy. In order to do that, we divide our data set into two parts: training set and testing set. The training set is used to make the algorithm learn the patterns present in the data during training and test dataset is used to check the correctness of the algorithm during testing."
      ]
    },
    {
      "cell_type": "code",
      "metadata": {
        "id": "pXgA6CzlqbCl"
      },
      "source": [
        "#from sklearn.model_selection import train_test_split\n",
        "X_train, X_test, y_train, y_test = train_test_split(X, Y, test_size = 0.2, random_state = 1)"
      ],
      "execution_count": null,
      "outputs": []
    },
    {
      "cell_type": "code",
      "metadata": {
        "id": "GuwQhFdKrYTM",
        "colab": {
          "base_uri": "https://localhost:8080/"
        },
        "outputId": "d1dbd571-9bef-463f-919f-cfa32b72c59c"
      },
      "source": [
        "print(X_train)"
      ],
      "execution_count": null,
      "outputs": [
        {
          "output_type": "stream",
          "name": "stdout",
          "text": [
            "[[0.0 0.0 1.0 38.77777777777778 52000.0]\n",
            " [0.0 1.0 0.0 40.0 63777.77777777778]\n",
            " [1.0 0.0 0.0 44.0 72000.0]\n",
            " [0.0 0.0 1.0 38.0 61000.0]\n",
            " [0.0 0.0 1.0 27.0 48000.0]\n",
            " [1.0 0.0 0.0 48.0 79000.0]\n",
            " [0.0 1.0 0.0 50.0 83000.0]\n",
            " [1.0 0.0 0.0 35.0 58000.0]]\n"
          ]
        }
      ]
    },
    {
      "cell_type": "code",
      "metadata": {
        "id": "TUrX_Tvcrbi4",
        "colab": {
          "base_uri": "https://localhost:8080/"
        },
        "outputId": "bb6684c0-abcd-46e5-a548-54cfb7101ba9"
      },
      "source": [
        "print(X_test)"
      ],
      "execution_count": null,
      "outputs": [
        {
          "output_type": "stream",
          "name": "stdout",
          "text": [
            "[[0.0 1.0 0.0 30.0 54000.0]\n",
            " [1.0 0.0 0.0 37.0 67000.0]]\n"
          ]
        }
      ]
    },
    {
      "cell_type": "code",
      "metadata": {
        "id": "pSMHiIsWreQY",
        "colab": {
          "base_uri": "https://localhost:8080/"
        },
        "outputId": "6c3a7852-690d-4789-bd8f-57675148aba3"
      },
      "source": [
        "print(y_train)"
      ],
      "execution_count": null,
      "outputs": [
        {
          "output_type": "stream",
          "name": "stdout",
          "text": [
            "[0 1 0 0 1 1 0 1]\n"
          ]
        }
      ]
    },
    {
      "cell_type": "code",
      "metadata": {
        "id": "I_tW7H56rgtW",
        "colab": {
          "base_uri": "https://localhost:8080/"
        },
        "outputId": "7b301f64-a721-438f-bb53-b35b2b11cf86"
      },
      "source": [
        "print(y_test)"
      ],
      "execution_count": null,
      "outputs": [
        {
          "output_type": "stream",
          "name": "stdout",
          "text": [
            "[0 1]\n"
          ]
        }
      ]
    },
    {
      "cell_type": "markdown",
      "metadata": {
        "id": "TpGqbS4TqkIR"
      },
      "source": [
        "**Feature Scaling:**\n",
        "\n",
        "It is a technique to standardize the independent variables of the dataset in a specific range. In feature scaling, the variables are brought into same range and in the same scale so that no any variable dominate the other variable.\n",
        "There are several ways to do so. Following are 2 common ways to normalize/standardize a dataset.\n",
        "\n",
        "\n",
        "\n",
        "\n",
        "\n",
        "![ML.JPG](data:image/jpeg;base64,/9j/4AAQSkZJRgABAQEAYABgAAD/4RD6RXhpZgAATU0AKgAAAAgABAE7AAIAAAAQAAAISodpAAQAAAABAAAIWpydAAEAAAAgAAAQ0uocAAcAAAgMAAAAPgAAAAAc6gAAAAgAAAAAAAAAAAAAAAAAAAAAAAAAAAAAAAAAAAAAAAAAAAAAAAAAAAAAAAAAAAAAAAAAAAAAAAAAAAAAAAAAAAAAAAAAAAAAAAAAAAAAAAAAAAAAAAAAAAAAAAAAAAAAAAAAAAAAAAAAAAAAAAAAAAAAAAAAAAAAAAAAAAAAAAAAAAAAAAAAAAAAAAAAAAAAAAAAAAAAAAAAAAAAAAAAAAAAAAAAAAAAAAAAAAAAAAAAAAAAAAAAAAAAAAAAAAAAAAAAAAAAAAAAAAAAAAAAAAAAAAAAAAAAAAAAAAAAAAAAAAAAAAAAAAAAAAAAAAAAAAAAAAAAAAAAAAAAAAAAAAAAAAAAAAAAAAAAAAAAAAAAAAAAAAAAAAAAAAAAAAAAAAAAAAAAAAAAAAAAAAAAAAAAAAAAAAAAAAAAAAAAAAAAAAAAAAAAAAAAAAAAAAAAAAAAAAAAAAAAAAAAAAAAAAAAAAAAAAAAAAAAAAAAAAAAAAAAAAAAAAAAAAAAAAAAAAAAAAAAAAAAAAAAAAAAAAAAAAAAAAAAAAAAAAAAAAAAAAAAAAAAAAAAAAAAAAAAAAAAAAAAAAAAAAAAAAAAAAAAAAAAAAAAAAAAAAAAAAAAAAAAAAAAAAAAAAAAAAAAAAAAAAAAAAAAAAAAAAAAAAAAAAAAAAAAAAAAAAAAAAAAAAAAAAAAAAAAAAAAAAAAAAAAAAAAAAAAAAAAAAAAAAAAAAAAAAAAAAAAAAAAAAAAAAAAAAAAAAAAAAAAAAAAAAAAAAAAAAAAAAAAAAAAAAAAAAAAAAAAAAAAAAAAAAAAAAAAAAAAAAAAAAAAAAAAAAAAAAAAAAAAAAAAAAAAAAAAAAAAAAAAAAAAAAAAAAAAAAAAAAAAAAAAAAAAAAAAAAAAAAAAAAAAAAAAAAAAAAAAAAAAAAAAAAAAAAAAAAAAAAAAAAAAAAAAAAAAAAAAAAAAAAAAAAAAAAAAAAAAAAAAAAAAAAAAAAAAAAAAAAAAAAAAAAAAAAAAAAAAAAAAAAAAAAAAAAAAAAAAAAAAAAAAAAAAAAAAAAAAAAAAAAAAAAAAAAAAAAAAAAAAAAAAAAAAAAAAAAAAAAAAAAAAAAAAAAAAAAAAAAAAAAAAAAAAAAAAAAAAAAAAAAAAAAAAAAAAAAAAAAAAAAAAAAAAAAAAAAAAAAAAAAAAAAAAAAAAAAAAAAAAAAAAAAAAAAAAAAAAAAAAAAAAAAAAAAAAAAAAAAAAAAAAAAAAAAAAAAAAAAAAAAAAAAAAAAAAAAAAAAAAAAAAAAAAAAAAAAAAAAAAAAAAAAAAAAAAAAAAAAAAAAAAAAAAAAAAAAAAAAAAAAAAAAAAAAAAAAAAAAAAAAAAAAAAAAAAAAAAAAAAAAAAAAAAAAAAAAAAAAAAAAAAAAAAAAAAAAAAAAAAAAAAAAAAAAAAAAAAAAAAAAAAAAAAAAAAAAAAAAAAAAAAAAAAAAAAAAAAAAAAAAAAAAAAAAAAAAAAAAAAAAAAAAAAAAAAAAAAAAAAAAAAAAAAAAAAAAAAAAAAAAAAAAAAAAAAAAAAAAAAAAAAAAAAAAAAAAAAAAAAAAAAAAAAAAAAAAAAAAAAAAAAAAAAAAAAAAAAAAAAAAAAAAAAAAAAAAAAAAAAAAAAAAAAAAAAAAAAAAAAAAAAAAAAAAAAAAAAAAAAAAAAAAAAAAAAAAAAAAAAAAAAAAAAAAAAAAAAAAAAAAAAAAAAAAAAAAAAAAAAAAAAAAAAAAAAAAAAAAAAAAAAAAAAAAAAAAAAAAAAAAAAAAAAAAAAAAAAAAAAAAAAAAAAAAAAAAAAAAAAAAAAAAAAAAAAAAAAAAAAAAAAAAAAAAAAAAAAAAAAAAAAAAAAAAAAAAAAAAAAAAAAAAAAAAAAAAAAAAAAAAAAAAAAAAAAAAAAAAAAAAAAAAAAAAAAAAAAAAAAAAAAAAAAAAAAAAAAAAAAAAAAAAAAAAAAAAAAAAAAAAAAAAAAAAAAAAAAAAAAAAAAAAAAAAAAAAAAAAAAAAAAAAAAAAAAAAAAAAAAAAAAAAAAAAAAAAAAAAAAAAAAAAAAAAAAAAAAAAAAAAAAAAAAAAAAAAAAAAAAAAAAAAAAAAAAAAAAAAAAAAAAAAAAAAAAAAAAAAAAAAAAAAAAAAAAAAAAAAAAAAAAAAAAAAAAAAAAAAAAAAAAAAAAAAAAAAAAAAAAAAAAAAAAAAAAAAAAAAAAAAAAAAAAAAAAAAAAAAAAAAAAAAAAAAAAAAAAAAAAAAAAAAAAAAAAAAAAAAAAAAAAAAAAAAAAAAAAAAAAAAAAAAAAAAAAAAAAAAAAAAAAAAAAAAAAAAAAAAAAAAAAAAAAAAAAAAAAAAAAAAAAAAAAAAAAAAAAAAAAAAAAAAAAAAAAAAAAAAAAAAAAAAAAAAAAAAAAAAAAAAAAAAAAAAAAAAAAAAAAAAAAAAAAAAAAAAAAAAAAAAAAAAAAAAAAAAAAAAAAAAAAAAAAAAAAAAAAAAAAAAAAAAAAAAAAAAAAAAAAAAAAAAAAAAAAAAAAAAAAAAAAAAAAAAAAAAAAAAAAAAAAAAAAAAAAAAAAAAAAAAAAAAAAAAAAAAAAAAAAAAAAAAAAAAAAAAAAAAAAAAAAAAAAAAAAAAAAAAAAAAAAAAAAAAAAAAAAAAAAAAAAAAAAAAAAAAAAAAAAAAAAAAAAAAAAAAAAAAAAAAAAAAAAAAAAAAAAAAAAAAAAAAAAAAAAAAAAAFZhbmkgS2FuZGhhc2FteQAABZADAAIAAAAUAAAQqJAEAAIAAAAUAAAQvJKRAAIAAAADNjgAAJKSAAIAAAADNjgAAOocAAcAAAgMAAAInAAAAAAc6gAAAAgAAAAAAAAAAAAAAAAAAAAAAAAAAAAAAAAAAAAAAAAAAAAAAAAAAAAAAAAAAAAAAAAAAAAAAAAAAAAAAAAAAAAAAAAAAAAAAAAAAAAAAAAAAAAAAAAAAAAAAAAAAAAAAAAAAAAAAAAAAAAAAAAAAAAAAAAAAAAAAAAAAAAAAAAAAAAAAAAAAAAAAAAAAAAAAAAAAAAAAAAAAAAAAAAAAAAAAAAAAAAAAAAAAAAAAAAAAAAAAAAAAAAAAAAAAAAAAAAAAAAAAAAAAAAAAAAAAAAAAAAAAAAAAAAAAAAAAAAAAAAAAAAAAAAAAAAAAAAAAAAAAAAAAAAAAAAAAAAAAAAAAAAAAAAAAAAAAAAAAAAAAAAAAAAAAAAAAAAAAAAAAAAAAAAAAAAAAAAAAAAAAAAAAAAAAAAAAAAAAAAAAAAAAAAAAAAAAAAAAAAAAAAAAAAAAAAAAAAAAAAAAAAAAAAAAAAAAAAAAAAAAAAAAAAAAAAAAAAAAAAAAAAAAAAAAAAAAAAAAAAAAAAAAAAAAAAAAAAAAAAAAAAAAAAAAAAAAAAAAAAAAAAAAAAAAAAAAAAAAAAAAAAAAAAAAAAAAAAAAAAAAAAAAAAAAAAAAAAAAAAAAAAAAAAAAAAAAAAAAAAAAAAAAAAAAAAAAAAAAAAAAAAAAAAAAAAAAAAAAAAAAAAAAAAAAAAAAAAAAAAAAAAAAAAAAAAAAAAAAAAAAAAAAAAAAAAAAAAAAAAAAAAAAAAAAAAAAAAAAAAAAAAAAAAAAAAAAAAAAAAAAAAAAAAAAAAAAAAAAAAAAAAAAAAAAAAAAAAAAAAAAAAAAAAAAAAAAAAAAAAAAAAAAAAAAAAAAAAAAAAAAAAAAAAAAAAAAAAAAAAAAAAAAAAAAAAAAAAAAAAAAAAAAAAAAAAAAAAAAAAAAAAAAAAAAAAAAAAAAAAAAAAAAAAAAAAAAAAAAAAAAAAAAAAAAAAAAAAAAAAAAAAAAAAAAAAAAAAAAAAAAAAAAAAAAAAAAAAAAAAAAAAAAAAAAAAAAAAAAAAAAAAAAAAAAAAAAAAAAAAAAAAAAAAAAAAAAAAAAAAAAAAAAAAAAAAAAAAAAAAAAAAAAAAAAAAAAAAAAAAAAAAAAAAAAAAAAAAAAAAAAAAAAAAAAAAAAAAAAAAAAAAAAAAAAAAAAAAAAAAAAAAAAAAAAAAAAAAAAAAAAAAAAAAAAAAAAAAAAAAAAAAAAAAAAAAAAAAAAAAAAAAAAAAAAAAAAAAAAAAAAAAAAAAAAAAAAAAAAAAAAAAAAAAAAAAAAAAAAAAAAAAAAAAAAAAAAAAAAAAAAAAAAAAAAAAAAAAAAAAAAAAAAAAAAAAAAAAAAAAAAAAAAAAAAAAAAAAAAAAAAAAAAAAAAAAAAAAAAAAAAAAAAAAAAAAAAAAAAAAAAAAAAAAAAAAAAAAAAAAAAAAAAAAAAAAAAAAAAAAAAAAAAAAAAAAAAAAAAAAAAAAAAAAAAAAAAAAAAAAAAAAAAAAAAAAAAAAAAAAAAAAAAAAAAAAAAAAAAAAAAAAAAAAAAAAAAAAAAAAAAAAAAAAAAAAAAAAAAAAAAAAAAAAAAAAAAAAAAAAAAAAAAAAAAAAAAAAAAAAAAAAAAAAAAAAAAAAAAAAAAAAAAAAAAAAAAAAAAAAAAAAAAAAAAAAAAAAAAAAAAAAAAAAAAAAAAAAAAAAAAAAAAAAAAAAAAAAAAAAAAAAAAAAAAAAAAAAAAAAAAAAAAAAAAAAAAAAAAAAAAAAAAAAAAAAAAAAAAAAAAAAAAAAAAAAAAAAAAAAAAAAAAAAAAAAAAAAAAAAAAAAAAAAAAAAAAAAAAAAAAAAAAAAAAAAAAAAAAAAAAAAAAAAAAAAAAAAAAAAAAAAAAAAAAAAAAAAAAAAAAAAAAAAAAAAAAAAAAAAAAAAAAAAAAAAAAAAAAAAAAAAAAAAAAAAAAAAAAAAAAAAAAAAAAAAAAAAAAAAAAAAAAAAAAAAAAAAAAAAAAAAAAAAAAAAAAAAAAAAAAAAAAAAAAAAAAAAAAAAAAAAAAAAAAAAAAAAAAAAAAAAAAAAAAAAAAAAAAAAAAAAAAAAAAAAAAAAAAAAAAAAAAAAAAAAAAAAAAAAAAAAAAAAAAAAAAAAAAAAAAAAAAAAAAAAAAAAAAAAAAAAAAAAAAAAAAAAAAAAAAAAAAAAAAAAAAAAAAAAAAAAAAAAAAAAAAAAAAAAAAAAAAAAAAAAAAAAAAAAAAAAAAAAAAAAAAAAAAAAAAAAAAAAAAAAAAAAAAAAAAAAAAAAAAAAAAAAAAAAAAAAAAAAAAAAAAAAAAAAAAAAAAAAAAAAAAAAAAAAAAAAAAAAAAAAAAAAAAAAAAAAAAAAAAAAAAAAAAAAAAAAAAAAAAAAAAAAAAAAAAAAAAAAAAAAAAAAAAAAAAAAAAAAAAAAAAAAAAAAAAAAAAAAAAAAAAAAAAAAAAAAAAAAAAAAAAAAAAAAAAAAAAAAAAAAAAAAAAAAAAAAAAAAAAAAAAAAAAAAAAAAAAAAAAAAAAAAAAAAAAAAAAAAAAAAAAAAAAAAAAAAAAAAAAAAAAAAAAAAAAAAAAAAAAAAAAAAAAAAAAAAAAAAAAAAAAAAAAAAAAAAAAAAAAAAAAAAAAAAAAAAAAAAAAAAAAAAAAAAAAAAAAAAAAAAAAAAAAAAAAAAAAAAAAAAAAAAAAAAAAAAAAAAAAAAAAAAAAAAAAAAAAAAAAAAAAAAAADIwMjM6MDE6MzAgMTQ6NDQ6MzIAMjAyMzowMTozMCAxNDo0NDozMgAAAFYAYQBuAGkAIABLAGEAbgBkAGgAYQBzAGEAbQB5AAAA/+ELImh0dHA6Ly9ucy5hZG9iZS5jb20veGFwLzEuMC8APD94cGFja2V0IGJlZ2luPSfvu78nIGlkPSdXNU0wTXBDZWhpSHpyZVN6TlRjemtjOWQnPz4NCjx4OnhtcG1ldGEgeG1sbnM6eD0iYWRvYmU6bnM6bWV0YS8iPjxyZGY6UkRGIHhtbG5zOnJkZj0iaHR0cDovL3d3dy53My5vcmcvMTk5OS8wMi8yMi1yZGYtc3ludGF4LW5zIyI+PHJkZjpEZXNjcmlwdGlvbiByZGY6YWJvdXQ9InV1aWQ6ZmFmNWJkZDUtYmEzZC0xMWRhLWFkMzEtZDMzZDc1MTgyZjFiIiB4bWxuczpkYz0iaHR0cDovL3B1cmwub3JnL2RjL2VsZW1lbnRzLzEuMS8iLz48cmRmOkRlc2NyaXB0aW9uIHJkZjphYm91dD0idXVpZDpmYWY1YmRkNS1iYTNkLTExZGEtYWQzMS1kMzNkNzUxODJmMWIiIHhtbG5zOnhtcD0iaHR0cDovL25zLmFkb2JlLmNvbS94YXAvMS4wLyI+PHhtcDpDcmVhdGVEYXRlPjIwMjMtMDEtMzBUMTQ6NDQ6MzIuNjc1PC94bXA6Q3JlYXRlRGF0ZT48L3JkZjpEZXNjcmlwdGlvbj48cmRmOkRlc2NyaXB0aW9uIHJkZjphYm91dD0idXVpZDpmYWY1YmRkNS1iYTNkLTExZGEtYWQzMS1kMzNkNzUxODJmMWIiIHhtbG5zOmRjPSJodHRwOi8vcHVybC5vcmcvZGMvZWxlbWVudHMvMS4xLyI+PGRjOmNyZWF0b3I+PHJkZjpTZXEgeG1sbnM6cmRmPSJodHRwOi8vd3d3LnczLm9yZy8xOTk5LzAyLzIyLXJkZi1zeW50YXgtbnMjIj48cmRmOmxpPlZhbmkgS2FuZGhhc2FteTwvcmRmOmxpPjwvcmRmOlNlcT4NCgkJCTwvZGM6Y3JlYXRvcj48L3JkZjpEZXNjcmlwdGlvbj48L3JkZjpSREY+PC94OnhtcG1ldGE+DQogICAgICAgICAgICAgICAgICAgICAgICAgICAgICAgICAgICAgICAgICAgICAgICAgICAgICAgICAgICAgICAgICAgICAgICAgICAgICAgICAgICAgICAgICAgICAgICAgICAgCiAgICAgICAgICAgICAgICAgICAgICAgICAgICAgICAgICAgICAgICAgICAgICAgICAgICAgICAgICAgICAgICAgICAgICAgICAgICAgICAgICAgICAgICAgICAgICAgICAgICAKICAgICAgICAgICAgICAgICAgICAgICAgICAgICAgICAgICAgICAgICAgICAgICAgICAgICAgICAgICAgICAgICAgICAgICAgICAgICAgICAgICAgICAgICAgICAgICAgICAgIAogICAgICAgICAgICAgICAgICAgICAgICAgICAgICAgICAgICAgICAgICAgICAgICAgICAgICAgICAgICAgICAgICAgICAgICAgICAgICAgICAgICAgICAgICAgICAgICAgICAgCiAgICAgICAgICAgICAgICAgICAgICAgICAgICAgICAgICAgICAgICAgICAgICAgICAgICAgICAgICAgICAgICAgICAgICAgICAgICAgICAgICAgICAgICAgICAgICAgICAgICAKICAgICAgICAgICAgICAgICAgICAgICAgICAgICAgICAgICAgICAgICAgICAgICAgICAgICAgICAgICAgICAgICAgICAgICAgICAgICAgICAgICAgICAgICAgICAgICAgICAgIAogICAgICAgICAgICAgICAgICAgICAgICAgICAgICAgICAgICAgICAgICAgICAgICAgICAgICAgICAgICAgICAgICAgICAgICAgICAgICAgICAgICAgICAgICAgICAgICAgICAgCiAgICAgICAgICAgICAgICAgICAgICAgICAgICAgICAgICAgICAgICAgICAgICAgICAgICAgICAgICAgICAgICAgICAgICAgICAgICAgICAgICAgICAgICAgICAgICAgICAgICAKICAgICAgICAgICAgICAgICAgICAgICAgICAgICAgICAgICAgICAgICAgICAgICAgICAgICAgICAgICAgICAgICAgICAgICAgICAgICAgICAgICAgICAgICAgICAgICAgICAgIAogICAgICAgICAgICAgICAgICAgICAgICAgICAgICAgICAgICAgICAgICAgICAgICAgICAgICAgICAgICAgICAgICAgICAgICAgICAgICAgICAgICAgICAgICAgICAgICAgICAgCiAgICAgICAgICAgICAgICAgICAgICAgICAgICAgICAgICAgICAgICAgICAgICAgICAgICAgICAgICAgICAgICAgICAgICAgICAgICAgICAgICAgICAgICAgICAgICAgICAgICAKICAgICAgICAgICAgICAgICAgICAgICAgICAgICAgICAgICAgICAgICAgICAgICAgICAgICAgICAgICAgICAgICAgICAgICAgICAgICAgICAgICAgICAgICAgICAgICAgICAgIAogICAgICAgICAgICAgICAgICAgICAgICAgICAgICAgICAgICAgICAgICAgICAgICAgICAgICAgICAgICAgICAgICAgICAgICAgICAgICAgICAgICAgICAgICAgICAgICAgICAgCiAgICAgICAgICAgICAgICAgICAgICAgICAgICAgICAgICAgICAgICAgICAgICAgICAgICAgICAgICAgICAgICAgICAgICAgICAgICAgICAgICAgICAgICAgICAgICAgICAgICAKICAgICAgICAgICAgICAgICAgICAgICAgICAgICAgICAgICAgICAgICAgICAgICAgICAgICAgICAgICAgICAgICAgICAgICAgICAgICAgICAgICAgICAgICAgICAgICAgICAgIAogICAgICAgICAgICAgICAgICAgICAgICAgICAgICAgICAgICAgICAgICAgICAgICAgICAgICAgICAgICAgICAgICAgICAgICAgICAgICAgICAgICAgICAgICAgICAgICAgICAgCiAgICAgICAgICAgICAgICAgICAgICAgICAgICAgICAgICAgICAgICAgICAgICAgICAgICAgICAgICAgICAgICAgICAgICAgICAgICAgICAgICAgICAgICAgICAgICAgICAgICAKICAgICAgICAgICAgICAgICAgICAgICAgICAgICAgICAgICAgICAgICAgICAgICAgICAgICAgICAgICAgICAgICAgICAgICAgICAgICAgICAgICAgICAgICAgICAgICAgICAgIAogICAgICAgICAgICAgICAgICAgICAgICAgICAgICAgICAgICAgICAgICAgICAgICAgICAgICAgICAgICAgICAgICAgICAgICAgICAgICAgICAgICAgICAgICAgICAgICAgICAgCiAgICAgICAgICAgICAgICAgICAgICAgICAgICAgICAgICAgICAgICAgICAgICAgICAgICAgICAgICAgICAgICAgICAgICAgICAgICAgICAgICAgICAgICAgICAgICAgICAgICAKICAgICAgICAgICAgICAgICAgICAgICAgICAgIDw/eHBhY2tldCBlbmQ9J3cnPz7/2wBDAAcFBQYFBAcGBQYIBwcIChELCgkJChUPEAwRGBUaGRgVGBcbHichGx0lHRcYIi4iJSgpKywrGiAvMy8qMicqKyr/2wBDAQcICAoJChQLCxQqHBgcKioqKioqKioqKioqKioqKioqKioqKioqKioqKioqKioqKioqKioqKioqKioqKioqKir/wAARCAGFAeADASIAAhEBAxEB/8QAHwAAAQUBAQEBAQEAAAAAAAAAAAECAwQFBgcICQoL/8QAtRAAAgEDAwIEAwUFBAQAAAF9AQIDAAQRBRIhMUEGE1FhByJxFDKBkaEII0KxwRVS0fAkM2JyggkKFhcYGRolJicoKSo0NTY3ODk6Q0RFRkdISUpTVFVWV1hZWmNkZWZnaGlqc3R1dnd4eXqDhIWGh4iJipKTlJWWl5iZmqKjpKWmp6ipqrKztLW2t7i5usLDxMXGx8jJytLT1NXW19jZ2uHi4+Tl5ufo6erx8vP09fb3+Pn6/8QAHwEAAwEBAQEBAQEBAQAAAAAAAAECAwQFBgcICQoL/8QAtREAAgECBAQDBAcFBAQAAQJ3AAECAxEEBSExBhJBUQdhcRMiMoEIFEKRobHBCSMzUvAVYnLRChYkNOEl8RcYGRomJygpKjU2Nzg5OkNERUZHSElKU1RVVldYWVpjZGVmZ2hpanN0dXZ3eHl6goOEhYaHiImKkpOUlZaXmJmaoqOkpaanqKmqsrO0tba3uLm6wsPExcbHyMnK0tPU1dbX2Nna4uPk5ebn6Onq8vP09fb3+Pn6/9oADAMBAAIRAxEAPwD6RoqtqV6NN0m7vmieYW0LzGOMfM+1ScD3OK8+8K+O/EWsaefEeqP4fj8ORrLJcpaPLJd2iqrEBx0zwM4GTnIA7F9/ID0qiuF8P/Frw9q/hO51y+l/s6O0kEdzGVeUxbmITkJ824DPAOO9akXxF8KTeHm1yPWI205ZhA03lP8AI56Art3D6kYo2A6aiuf0rx34Z1qDUJtM1iCaLTQWunIZVjXn5ssBleDyMisHTvidY+IPHmmaT4bura9065t5nuJDFIssboMgANjAPuvPrR1sJuyud9RXM6L8RfCniHVW03SNXSe7VWbyjFImQvXBZQD9BnjJqO1+Jng+8tLm5t9biaG0g8+djHIvlpu28grnJPAXqcjA5FAzqqK86s/ifFrWvavFoN1YzaZZ6M99FdSxSgrKpIIkH3toxnAXdjpnIq8vxT8OaXpOmN4m1i3ivby0S5za2tw0ThsjcuUJAyDw3NH9fn/kH9fl/mdvRXJXfxS8G2EtpHeaysLXkKTw7reXDRv91iduFzjvjHeoL34n6LY/EK38LSt88yKDcjcQJXI8uMAKc5DA7s4H8jd2Dpc7SiuO0zx7YweF7rWfE2q6dHBDeyWwltI5gpwcBdrjcz+u0EdxwDV6H4geF7jw1Pr8GrRyabbsEmmWNyYySAAU27hkkdvfpQtVf+tQOjorC0Lxr4d8TX91Z6FqkV5PajMqorDjOMgkAMM91yOnqK3aACiiigAooooAKKKKACiiigAooooAKKKKACiiigAooooAKKKKACiiigAooooAKKKKACiiigAooooAKKKKACiiigAooooAKKKKACiiigAooooAKKKKACiiigCC+a6TTrltPjSS7WJjAkhwrPj5QT6ZxXl2h+EtbuviPZ68PCkHg+CGKVbwQX6TC93LhV2RjAweTwM9eoFesUUra3DpY8ds/D3j7TPhsPD9hpsltNZagGMtpqcccl9AXdm8t/8All1Xk847dRVWX4f+J7jRPEEEukYkv9WtbmKF9QFxuiXO7MkjZbGf4sE9hXtlFVfW/p+Fn+n5hL3vx/G/+Z5b4t8Ca1rniHxU9hEkFvqWlwRQzGRQsssbqxUgHI4XGSMUmm6P4xv/ABro2r3/AIdtdGSw0uazUpdxy7X2kIWxztyRhRuxzk816nRUpWVv61v/AJg9f69P8keM+H/CXjWTxR4d1HxBp90WsXuftdzc6uLksXT5WWPO2NcnAC5PHPQVZh8Aa8vwXs9ISxhTVrS/+2vZySJtudsjEIzAkcqR37AEivXaKrpZf1rcN/69f8zytdA8V6x4h8Ravqfh+HTTqPh97KCGO8jlJl5AVmGOT64wBgZ4qhqeh+Nm8N+GvDy+GGvtJsrWJtRt01GGE3Mi9IixJ+UEAnAOfUYzXsdFL+vzf6h/X5L9DxrxT4e8e+IZNSQ6PMlndadElpZRa0sUFm4A3oY1wJWznBbC479AN/8A4R/xBpnjjwzrFnpS3sEWkR6ber9pSM2p3As/P3wATwvXH0r0aimtH/Xn/mD1/r0/yPHrXwP4n07R7C+g0yO5vtL124vl02W4jUXEUmAGD5IVh1GenPfAo1LwP4l1jwx4uv59KitNU1+W3MWlxXKN5axOOWk4UsRk9f1OK9hoqYrlVv66f5Id9b/1u3+pxVt4d1CD4tQayloE05dDFo8quo/eCQHbtznoOuMV2tFFVe/9edybf18rBRRRSGFFFFABRRRQAUUUUAFFFFABRRRQAUUUUAFFFFABRRRQAUUUUAFFFFABRRRQAUUUUAFFFFABRRRQAUUUUAFFFFABRRRQAUUUUAFFFFABRRRQAUUUUAFFFZmr+JtC0Bol17WtO0xpgTEL27SEuB1xuIzjI6etAGnRXN/8LH8Ef9Dl4f8A/BpB/wDFUf8ACx/BH/Q5eH//AAaQf/FUAdJRXN/8LH8Ef9Dl4f8A/BpB/wDFUf8ACx/BH/Q5eH//AAaQf/FUAdJRXN/8LH8Ef9Dl4f8A/BpB/wDFUf8ACx/BH/Q5eH//AAaQf/FUAdJRXN/8LH8Ef9Dl4f8A/BpB/wDFUf8ACx/BH/Q5eH//AAaQf/FUAdJRXN/8LH8Ef9Dl4f8A/BpB/wDFUf8ACx/BH/Q5eH//AAaQf/FUAdJRXN/8LH8Ef9Dl4f8A/BpB/wDFUf8ACx/BH/Q5eH//AAaQf/FUAdJRXN/8LH8Ef9Dl4f8A/BpB/wDFUf8ACx/BH/Q5eH//AAaQf/FUAdJRXN/8LH8Ef9Dl4f8A/BpB/wDFUf8ACx/BH/Q5eH//AAaQf/FUAdJRXN/8LH8Ef9Dl4f8A/BpB/wDFUf8ACx/BH/Q5eH//AAaQf/FUAdJRXN/8LH8Ef9Dl4f8A/BpB/wDFUf8ACx/BH/Q5eH//AAaQf/FUAdJRXN/8LH8Ef9Dl4f8A/BpB/wDFUf8ACx/BH/Q5eH//AAaQf/FUAdJRXN/8LH8Ef9Dl4f8A/BpB/wDFUf8ACx/BH/Q5eH//AAaQf/FUAdJRXN/8LH8Ef9Dl4f8A/BpB/wDFUf8ACx/BH/Q5eH//AAaQf/FUAdJRXN/8LH8Ef9Dl4f8A/BpB/wDFUf8ACx/BH/Q5eH//AAaQf/FUAdJRXN/8LH8Ef9Dl4f8A/BpB/wDFUf8ACx/BH/Q5eH//AAaQf/FUAdJRXN/8LH8Ef9Dl4f8A/BpB/wDFUf8ACx/BH/Q5eH//AAaQf/FUAdJRXN/8LH8Ef9Dl4f8A/BpB/wDFUf8ACx/BH/Q5eH//AAaQf/FUAdJRXN/8LH8Ef9Dl4f8A/BpB/wDFUf8ACx/BH/Q5eH//AAaQf/FUAdJRXN/8LH8Ef9Dl4f8A/BpB/wDFUf8ACx/BH/Q5eH//AAaQf/FUAdJRXN/8LH8Ef9Dl4f8A/BpB/wDFUf8ACx/BH/Q5eH//AAaQf/FUAdJRXN/8LH8Ef9Dl4f8A/BpB/wDFUf8ACx/BH/Q5eH//AAaQf/FUAdJRXN/8LH8Ef9Dl4f8A/BpB/wDFUf8ACx/BH/Q5eH//AAaQf/FUAdJRXN/8LH8Ef9Dl4f8A/BpB/wDFUf8ACx/BH/Q5eH//AAaQf/FUAdJRXN/8LH8Ef9Dl4f8A/BpB/wDFUf8ACx/BH/Q5eH//AAaQf/FUAdJRXN/8LH8Ef9Dl4f8A/BpB/wDFUf8ACx/BH/Q5eH//AAaQf/FUAdJRXN/8LH8Ef9Dl4f8A/BpB/wDFUf8ACx/BH/Q5eH//AAaQf/FUAdJRXN/8LH8Ef9Dl4f8A/BpB/wDFUf8ACx/BH/Q5eH//AAaQf/FUAdJRXN/8LH8Ef9Dl4f8A/BpB/wDFUf8ACx/BH/Q5eH//AAaQf/FUAdJRWfpOv6Pr8UkuhatY6nHE22R7O5SYIfQlScGtCgArynx/o+na98cfA9hrNlBfWklnfl4J0DoxCKRkH0NerV5t4p/5OC8Cf9eWof8AotaANz/hVPgL/oUNH/8AARP8KP8AhVPgL/oUNH/8BE/wrraKAOS/4VT4C/6FDR//AAET/Cj/AIVT4C/6FDR//ARP8K62igDkv+FU+Av+hQ0f/wABE/wo/wCFU+Av+hQ0f/wET/CutooA5L/hVPgL/oUNH/8AARP8KP8AhVPgL/oUNH/8BE/wrraKAOS/4VT4C/6FDR//AAET/Cj/AIVT4C/6FDR//ARP8K62qFnrmnX+sajpVpceZe6YYxdxbGHleYu5OSMHK88E4707NgYP/CqfAX/QoaP/AOAif4Uf8Kp8Bf8AQoaP/wCAif4V1tFIDkv+FU+Av+hQ0f8A8BE/wo/4VT4C/wChQ0f/AMBE/wAK62igDkv+FU+Av+hQ0f8A8BE/wo/4VT4C/wChQ0f/AMBE/wAK62igDkv+FU+Av+hQ0f8A8BE/wo/4VT4C/wChQ0f/AMBE/wAK62igDkv+FU+Av+hQ0f8A8BE/wo/4VT4C/wChQ0f/AMBE/wAK62igDkv+FU+Av+hQ0f8A8BE/wo/4VT4C/wChQ0f/AMBE/wAK62igDkv+FU+Av+hQ0f8A8BE/wo/4VT4C/wChQ0f/AMBE/wAK62igDkv+FU+Av+hQ0f8A8BE/wo/4VT4C/wChQ0f/AMBE/wAK62uK8e6nf/214a8N6dey6aNcupEuL6HAeOKKPeURj9134AP1qox5nYT0LH/CqfAX/QoaP/4CJ/hVbUPhx8OdK025v7/wro8NraxNNNIbJTtRRknAGTwO1U1F54O+JugaPa6vqGoadr0NyslvqFw1w1u8KBxIrsdwByVIzj9Mc14POsy/AzWPFd/4i1W5vn0nUEtle7bbAEMgDjuZAyEhycgHAwK1VHS99NPxv/kLmOzs/hr8O9QsLe8s/CmjyW9xEssT/Y1G5WGQcEZ6Gm6h8OPhzpWm3N/f+FdHhtbWJpppDZKdqKMk4AyeB2rA0691PxRq/hbw3catqFnaf8IvDq13PaztHPeSMVjCtKPmAHLEg5JPNVkudW0mT4q6edc1K7TSdIiewluLhjJAWt53yrZ+8Dj5up2jJJGafsdd/wCr2DmOqs/hr8O9QsLe8s/CmjyW9xEssT/Y1G5WGQcEZ6Gp/wDhVPgL/oUNH/8AARP8K43R31XxB428N6ZPr+qW9pN4Mt726WC6ZWnk8xVLFs5DEsCXHzHGM4JrS0XWG0abx3oWv6/ejTNDaBodSmk33MMc8W7bvIJZlPCkgkk/QUOjbZ/1ewcx0H/CqfAX/QoaP/4CJ/hWP4V8HfDbxf4attb03wZp0VtcmQIlxZRq42OyHIBI6qe/SsrQtZvtL+KWiabbL4mTTNat7kPH4gl8zLxKHEkW52dfQqQo5HHpufBD/kjujf791/6Uy0p0uSF/T9f8gTuzR/4VT4C/6FDR/wDwET/Cj/hVPgL/AKFDR/8AwET/AArjZvEWsaH4X8U+FjfXM+uw6mtlpc8sxeVo7s5hbeTnKgvz22e3Gv4iSyS9tdEi1PxdqOp2NgiPDot2ysnXE0rFlBdsHh2OcdO5PYu+4cw/xB4O+G3hxtLF94M06T+1NQi06HybKM7ZJAxBbJGF+U5Iyfatj/hVPgL/AKFDR/8AwET/AArz/wDty/8AEXw1+GWp6vL517J4qt45ZMAFzG88YJxxkhQT712/w1v7y/k8X/brue5+z+JruCHzpC/lRqseEXPRRk4A45pzo8sb9v8AMFK7LP8AwqnwF/0KGj/+Aif4Uf8ACqfAX/QoaP8A+Aif4V5tpHjDVn+GvgOwudQ1eSTWpLt728s0kubx4oXYlUIDNk5UbuoUGuz8B6nqP/CXalpaw+IZtCNqlza3Ot2syPFKG2vF5koBYEbWGc/xUSoOKb7f52BSua3/AAqnwF/0KGj/APgIn+FH/CqfAX/QoaP/AOAif4V1tFc5RyX/AAqnwF/0KGj/APgIn+FH/CqfAX/QoaP/AOAif4V1tFAHJf8ACqfAX/QoaP8A+Aif4Uf8Kp8Bf9Cho/8A4CJ/hXW0UAcl/wAKp8Bf9Cho/wD4CJ/hR/wqnwF/0KGj/wDgIn+FdbRQByX/AAqnwF/0KGj/APgIn+FH/CqfAX/QoaP/AOAif4V1tFAHJf8ACqfAX/QoaP8A+Aif4Uf8Kp8Bf9Cho/8A4CJ/hXW0UAcl/wAKp8Bf9Cho/wD4CJ/hR/wqnwF/0KGj/wDgIn+FdbRQByX/AAqnwF/0KGj/APgIn+FH/CqfAX/QoaP/AOAif4V1tFAHl3wi0+00rxX8QLHTbaO1tYNYRYoYl2qg8scADpXqNebfDL/ke/iN/wBhpf8A0UK9JoAK828U/wDJwXgT/ry1D/0Wtek15t4p/wCTgvAn/XlqH/otaAPSa5L4o69qHhn4cajq+jSiK8t3t/LZlDDDTxqwIII5ViPx45rrawPHHhf/AITLwde6D9r+xfamiPn+V5m3ZKsn3cjOduOverpuKmnLa4nsc8mo+JPDnxE8PaRrOtLrFrr8dyGQ2iQ/ZZYoxJlCoyVIyMNk+9cnP8VZb/T9V1u08Z6ZpklrNL9g0SWONvtMUZwPMY/OGk2nG0jGR1r03WPC/wDa3jHw5r32vyv7Ea5PkeVu87zovL+9kbcdehz7VlWXgnWdBee28KeJY9P0mWV5ksrjThcGBnJZgj71IXcScEHGa6Izp2u9/wDgvyfkTZmTF8RLiz1i7v8AUpc6Ne+GY9dsIXRVMRUfvItwGWJ3Iec+2KybLxr4qbwC2l3t6I/GL6tBpyTfZ0BQTBZhJs27cCIuOn8Ofeuz8X+AofF82jS3V60L6dLmYrFn7VEdpeI8jaGKLzzjnjmnXHgS3n+Jlv4u+1lfKgCtZ+XlXmCuiy7s8EJIy4x6HPFCnSttr/lt9/ULMd8RNQ1jRvBc+raBMwn0147qaPy1bz4FYeahyDj5MnIweOoqsPEV5rPxI03T9EvAuk22mHUL8hFPnebxAmSCV6M/GOB+FdbJHBe2bRyBZreeMqwzlXVh/Ig1yHhH4b23hjw3qmk3GoTX51JfJe52+XIkAiEUcY5P3Fzg+pJxWUZQ5Nd/8/8AIbvc5dPHl1pfivRYYfFzeJrbUdSXT7mIaYIoYmfO14plUKdpwCpdiRn0OM7xLrmo+G9U+LmraLcfZr62OkmKXYr7cxqp4YEHgnqK6iH4Yaj9l8O2d74o8+y8O3kFxZwJp6x7li4Ach/mbHG7jqcqScjRv/hva6pdeMW1C9aSDxRHbq0SxbTbGGPYrBsnccgN0GMY5roU6Sf9d0+y6CsyXx/rmo6I/hYaXceQL/xDa2Vz8it5kLh9y/MDjO0cjB965HU/iK19r+vQp410/wANLpVw9naWk0cUjXUiD5nkL8hd3ygLg8E5rfuPh7reqTaE+veL3vhot9DdxItgsYm8v+/85JcjjdnAy3ynPF8+DdU03Vr+78KeIF0yDUrg3VzaXFkLlPObG90O9SpbAJGSM9qzi6UVZ6v+vL9A1NHwR4kHi/wTpeu+UImvId0ka5wrglWAz23KcVvVFaRzRWcMd1P9onSNVkmCBPMYDlto6ZPOKlrmlZt2LCiiikAUUUUAFFFFABRRXn/iz4i3Sa6/hPwDYLrXiXbmZmOLbTh/emf1/wBkc/oCAdX4i8UaJ4T0w6h4j1O30+2GQGmblyBnCqOWOOygmuEi+JHizxiufhv4PcWTZ2axr7G3gcdmSNfndT1yPxGaveHfhPZwaimu+OLx/FfiHg/ab1QYbc9cQw/dUA8g4znkYr0KgDl/B+leMLCS7n8Z+I7XVTOF8m1tLFYY7UjOdr/ecHI+90xWh4k8Maf4psIrbUfOje3lWe2ubeTy5reQdHRux/Stiimm07oDnNF8F2ek6w2rXN/qGsakYvJjutSlV2hj6lUCqqrnuQMn1pNN8D6bpfw+l8HW8902ny29xbtK7qZQsxcschcZG8449OtdJRVOcn1FZHn/AIn0DSdJtfD6JD4kW40y2+zWup6JB508Uaqq7JAqsCG4P3CMqenfP8FeC5LxfGs+pQanZ2PiVEtU+3yA3josTo8rZB2kmRsAjjA4AxXqFFX7aSjb+t7itqc7pXgnTtI1yx1W2mumnsdHTR41kdSphVgwYgKDvyo5yB7VXv8A4eaJqkviR783Mq+Ixb/a08wARmBQIzHgAgjAPJPI9OK6qio9pK97jsjk7P4fWdv4j03XbvV9X1LUNNWRIZLydGBV12kEBAOAScjBJPJOBjV8K+GrPwh4attE02SeW2tjIUe4YM53uznJAA6se3SteihzlJWbCyOdvvBGk6h43sPFNx532+xj8tIww8p+GCsy45ZfMbByMZqLUfAlnfeILjWLXU9U0u5vI447wWFwI1ulTIXflSQQCRlSpx3rp6KPaS7hZHI2/wAN9HtfD+iaPDPeLa6JqY1O1+dNxkDu4Vjt5TMjcDBxjmlufh1ps2tahqFvqWq2K6oQ19aWlyI4bggYJPy7lJHBKsua62in7SfcLI5GD4a6JbeFdM0OGW9RdKkeWyvUmCXMDMzMSrqAOdxGMYIxkGtnRNEl0fzvO1rU9VaXb81/IjbMZ+6ERQM5545wK1aKTnJ7sLIKKKKgYUUUUAFFFFABRRRQAUUUUAFFFFABRRRQAUUUUAebfDL/AJHv4jf9hpf/AEUK9Jrzb4Zf8j38Rv8AsNL/AOihXpNABXm3in/k4LwJ/wBeWof+i1r0mvNvFP8AycF4E/68tQ/9FrQB6TRRRQAUUUUAFR3MC3VrLbyfclQo30IxUlFAHnPwGuZJfg7pVrcjbc2Ek9pOn9xkmfj8itejV5l8O5P7A+J/jnwlJhElu11uyXd9+OcDzcDsFcKPqfz9NoAKKKKACiiigAooooAKKKKACiiigAoqK5urezgM95PHbxAgGSVwqgkgAZPqSB9TXP8Aj/xjb+BvB91q8yCa4yIbO25zc3DfcjAHJz1OOcAmgDA8e+LNWutch8CeAyBr95F5t3fEZTS7c8GRv9s/wj6HuM9J4M8F6V4H0JdO0iNmZj5lzdSndLdSHq7t3J/Ssn4Y+C5vCugSXeuSfa/Emrv9q1a8blnkOSEH+ygOABxnJGM4rtqACiiigAooooAKKKKACiiigAooooAKKKKACiiigAooooAKKKKACiiigAooooAKKKKACiiigAooooAKKKKACiiigAooooA82+GX/I9/Eb/sNL/6KFek15t8Mv8Ake/iN/2Gl/8ARQr0mgArzbxT/wAnBeBP+vLUP/Ra16TXm3in/k4LwJ/15ah/6LWgD0miiigAooooAKKKKAPMPilu8JeKPDvxFgRvI0+X+ztXKjrZzHAY+oSQggDuw969NjkSWNZInV0cBlZTkMD0INV9T0211jSrrTtRhWe1uomhmjboysMEV5x8NdYu/CetS/DPxTMTc2YZ9Cu34F9ZD7q5/voAQR6DjhckA9RooooAKKKKACiiigAooooAKKKKAMnxXoyeIfB+raPKMi+s5YBjqCykAj3Bwfwr4x0L4qeIf7V8NJrKSeI4tCnaTTrKViC0rALHuIBLlCAVzyCcZxxX3JXknwm+CVj4KvbjXtaihuNZlmc2yAApYxEnAXtvI6t2HA7lgDu/B9/4l1PRxd+LtKtNJnlw0VpBO0rouP8AloSAA3sM49ew6CiigAooooAKKKKACiiigAopGYIpZyFVRkknAApsM0VzBHPbyJLFKoeORGDK6kZBBHUEd6AH0UUUAFFFFABRRRQAUUUUAFFFFABRRRQAUUUUAFFFFABRRRQAUUUUAFFFFABRRRQAUUUUAebfDL/ke/iN/wBhpf8A0UK9Jrzb4Zf8j38Rv+w0v/ooV6TQAV5t4p/5OC8Cf9eWof8Aota9JrzbxT/ycF4E/wCvLUP/AEWtAHpNFFFABRRRQAUUUUAFcr4+8DW3jbSYVW4ew1fT5PP0zUov9Zay8c+6nAyO+B3AI6qigDzrwn8S5Fe58P8AxAiTSfE+nRM8iHiK/jUE+dA3QggZK9ufQgWvg/4+/wCFheALfULl0Op2zG3v1Vdv7wchgPRlIPHGcjtXC/HqDxD41tU8PeGvBFzqC28hd9Wmg2GMqeVhLEEg9z0YdAeo4P4V6L8R/hX4wW9vPCeqS6TdgQ6hFbxecxTs6hCSWUnPuCR3oA+saKjaR2tTJbpvcpuRJCUyccA8ZX8uPSuEj+K1oPAV1rl3pskOq2t0dPk0QSb5jebtqwA453cEMB0yccUAd/RXOL4nu18UaLoM+lKt3e2Mt5emO53rZKm0AZ2jfl225+XoTXR0Ac74z8Uy+D9Lg1WTTmvNNSdUv5Y5dr2kTHHnbNp3gEjIyCBzzzSeG/Fy+KNZ1aPTLQPpGnyC3j1MTZW6mx86xrtwVXoW3cngDjNQ+P7PXNX0FND8PwYXVZPs19fF0As7Yj94wVjlmK5UAA8nJxiqPw90DVvBkmoeGJIDL4etX87R70yIWWNyWaBxndlWJw2MEHqOlAHb1z3jrxWngjwZeeIJbRrxLR4Q0KvsLB5UjJBwem/OMc4xxnNPuvA3hi98RLr13oVlNqqyJKLx4gZA6YCNn1G1cfQVlfFvQNS8T/C/VdI0O2+1X1w1uY4vMVN224jduWIAwqk9e1AGfL8SdbsvENjomp+C57e+1aJ5NLRb9HWYpgusrbR5RVTuON3oMmrmm/Ey1/sfxHc+JrB9Fu/DTAaja+aJ8Bl3RsjADcHB44HNSeJdA1LUPir4I1i0tvMsNLXUBeTeYo8rzYkVOCcnJBHAOO+K5rW/hzrHiLU/iZA4Wyg18ac2nXTSArI0EakghTuUb1CkkA4ORmgDorDx5qK6vpNp4n8NPosOtEpYz/bFn/ebd4jlUKPLYqDjBYZGM06/8canomv6fbeIPDn2LS9S1Aada3yXyyuZW3eXuiC/KrbeoY4zyBXPaB4Khn1zTH1nwHqdnJZTrci8n8SyXUEUqAlXRDMS3OB8yjg1zcfw98VXN1oM+reGludb07xBBe3+vPqEchuoVnz+6VmyqhNp2/L9wAA5oA9An8fatP4313wzoHhf+0LnSEgdp5L4QxMJY94DEoSrZ4AAbOGJK45zNZ8fy+IPhbPPo0c+l6veaimgvC5HmWd08yxON3TKhiwP06dtnw1oGpaf8VfG+sXdt5dhqi6eLObzFPm+VE6vwDkYJA5Az2zXIXHhHXdM8C+Lbp7FheweLpfEVhEro5niSaORSACeWVWwp5zjigDq7vxZpvw+1Sw8PapZrpmgrp7Gx1Mz7kLQrloXXblW2jcDk7vrxWLrmuXs/h/w18QpdNl0ea3v4opbYy73ewuJViIkGBgnMcgXnaQOetO8WeHrn4vPZWqSNa+Els/t0F/FIjNdXToRFhQdwWMMWOcZPHSodZuPEGv+GfDfhLxLZrBr9/qMTX6xOjo9tbSrI9wCpO1W2oADg7nxigD1WuS+IXxE0z4c6KmoataX10JSVjW0gLDcMfec4VOo6nJ5wDg11tNkjSWNo5VV0cFWVhkEHqCKAPjrxJ8bde+JGvWmlX5k0rw3PcItzY6eGkllh3DcGYDc5xnAAUHjI7174nxx8LRxqkema+iKAFVdIkAA9BWT4y+AGkXd/F4g8B+XoOu2cy3MESjFrJIjBlyg/wBXyByvHsa9ctZJZrSGS4gNvK8as8LMGMbEcrkcHB4yOKAPO/8Ahenhj/oHeIP/AAUyUf8AC9PDH/QO8Qf+CmSvSaKAPNv+F6eGP+gd4g/8FMlH/C9PDH/QO8Qf+CmSvSaKAOQ8L/EzRfF2rtp2m2mrRTCIy7rvT5IkwCB94jAPPeuvoooA8VSPWNT8L+P9dbxPrMFxoeqakLCOG7ZY41hJkCsvRwc7cHgADAFX3utX0iDwH4m/t3ULqfX721ttQtJps2zrcRs2Uj6JtI4x+JNdvb+B9NttB8Q6THPdGDxBcXVxdMzruRrhcOEO3AA7ZB980678E6deaP4e06Wa6EPh+5t7m1ZXXc7QIVQP8uCCDzgD2xXX7WN/67EWZ57ceIbjxFr3iRrq88V2/wBgvZdP05NDtLhoYjGMF5DGpWRi2TtbIAxxzWkddk1zw3oCeIh4nt/EM9m8k2kaOWtpmw+wzSDK7FyuRuZQd3Q9uqu/AlrJq9zqOlatquiy3jiS6TTpkWOd8Y3sjowDEAZIwTijUPAlpfanZ6nFq2rWWpWtmLFry2uFElxCDu2yblIPzZOQAcnrR7SnoFmeZL4m8Raj4G0q1Oq6jZX0HjVNFN27AXBiyQPNCkqzDcARypK85rsSl74R+Kvh3TLbV9RvrDXre7WeDULlp/LkhRXDoW5XOcEDA9q0bb4XaHaafb2cFxfiK31xdcQtMrMZ1xhSSuSnHOfmP96tzUfDVnqfifRtdnknW60cTi3RGARvOQK24EZOAoxgj8aJVYN2W2v/AAPxCzNeiiiuQsKKKKACiiigAooooAKKKKACiiigAooooA82+GX/ACPfxG/7DS/+ihXpNebfDL/ke/iN/wBhpf8A0UK9JoAK828U/wDJwXgT/ry1D/0Wtek15t4p/wCTgvAn/XlqH/otaAPSaKKKACiiigAooooAKKKKACiiigAJABJOAOpNeA3lwZ/HUnxdgsUl8LWd8to6LuLToitCdQC9DsZto4ztUnjrXvc0MVxBJDcRpLFIpR43UMrqRggg9QR2qCPTLCHSxpkVlbx2AiMItFiUReWRgpsxjbjjGMUAV9SjtrnRb27ghmuGnsmUSae4W4lTaSqxyZGG5O07hgnOR1rzD7F/1L/xV/8AB5/91163aWltYWcVpY28VtbQqEihhQIiKOgCjgD2FTUAZvh5PL8PWS+TqEGI/wDV6nN5twv/AF0fc2T/AMCNcjqPxq8I6Xql1p90dT8+1meCTZpszLuVipwQvIyOtegUUAebf8L48F+urf8Agrm/+Jo/4Xx4L9dW/wDBXN/8TXpNFAHm3/C+PBfrq3/grm/+Jo/4Xx4L9dW/8Fc3/wATXpNFAHm3/C+PBfrq3/grm/8AiaP+F8eC/XVv/BXN/wDE16TRQB5t/wAL48F+urf+Cub/AOJo/wCF8eC/XVv/AAVzf/E16TRQB5t/wvjwX66t/wCCub/4mj/hfHgv11b/AMFc3/xNek0UAc34R8eaL43+2f2Gbs/Y9nm/abV4fv7sY3AZ+6eldJRRQAUVW1DUbPSdPmv9TuYrS0gXfLNM4VUHqSabpWp2utaPaanp7tJaXkKTwOyFSyMAVODgjIIoAt0UUUAFFFFABRRRQAUVl3XifQLLURp95rmm296SALaW7jWQk9BtJzWj58X2jyPNTztm/wAvcN23OM464z3p2aAfRRRSAKKKoarrmnaIbEapceQb+7SytvkZvMmfO1eAcZ2nk4HvTSb0QF+iiikAUUVQ0PXNO8SaLb6totx9psbkExS7GTdhip4YAjkHqKdna4F+iiqGh65p3iTRbfVtFuPtNjcgmKXYybsMVPDAEcg9RRZ2uBfooopAFFQWd9aajarc6fcw3Vu5IWWCQOjYODgjjggj8Kmd1jjZ5GCIoJZmOAAO5NAC0VWm1Gyt4YJbi8t4o7l1jgd5VUSs33VUk8k9gOtWaACiiigDzb4Zf8j38Rv+w0v/AKKFek15t8Mv+R7+I3/YaX/0UK9JoAK828U/8nBeBP8Ary1D/wBFrXpNebeKf+TgvAn/AF5ah/6LWgD0miiigAooooAKKKKACiiigAooooAKKKKACiiigAooooAKKKKACsjxVd/YfDF5cHWotCEagnUJo1kWAbhk7W4JI4Ge5HB6Vr1zvjXwmvjDRYLRb17G4tLyK9tbhYxIqSxnK7kOA6+qkigDk/h/44u9S8e6h4an1ifXrVdOTUbW/udONnKoL7GjZdiBhypDKuOoyT09OrjdD8DX9h4+k8Waz4g/tS8l0z+z2jWzEKKPMDgoAxwOPunJySd3QDsqACiiigAooooAK5zxvqnifSNBa48GaDBrd7zmGW5EWwf3gD9//d3KfTPSujooA+EfG/jLxf4q8TRw+O2uVaGdT/ZcwNrHDk9Nrfc443Nz6mvpuLxd8V4IUih+FFukcahVVdetwFA4A611/jLwB4c8ead9l8R6ekzKuIrpAFmh/wBx+o+nIPcGtfR7KbTNEsrG6u2vJbaBIWuWTa0u0Y3EZPJxk+9AHnf/AAmfxb/6JVB/4Prf/Gj/AITP4t/9Eqg/8H1v/jXqNFAHl3/CZ/Fv/olUH/g+t/8AGj/hM/i3/wBEqg/8H1v/AI16jRQBwPh3xP8AEa/1+1tvEPw9i0rTpCwmvF1iGYxDaSDsU5OSAOPWu+oooA8l0k/8K0DWXjPQUu9Pe/eZPE0SLLuaSXcrXAI3IwLAbuRwMetTzaXqMv7R0nk6/dQf8SBJxtghOIvtRBg5Q/Lnnd97nrW3qPgXXPEFidK8TeLBf6Q8itNBFpqQyzqrBgrSBiMZAztUZ9q0NT8JXc/jy18U6Tqy2VwlmLG5hltRMs0Ik8zAO5SjZJ55+ldftI3bvq0/QizOJ8b+Or3wtJqGo6b4wOqS2N0vmaPHpYaBYy4BiadFJRwpPLOOR0HSt/WtR8R3/wAXP+EY0jWv7LsToaX7yLbRyyK/nuh27wRk/L1yAF4GTmqN38JL6fwje+FYPFLQ6HcO8kULWCtKrNJ5g3y7wXAbnopPHOOK61fC5HxGPis3mSdJGmm1EXpMZN+7Pvjbj8aHKmlpvr09LdPX/MLM4iP4g69beCb+B2t7vxBD4jbw5a3LRbI5pSy7ZWUcD5WJx0yKh8c6X4h03UvBH9reIf7ZtX8TWm7zbOOF0l+fG3ZgbSN3ByenNdL/AMKytpdD1/TrvUJGbVdZk1iC4hj2PZynaUxydxUp14znGBTL7wDrWtXujXXiDxWLttIv4ryKOHTlhR9hJO4BydxGAGzgDPynPDU6ad1+XkFmYvxD8c3PhS4vr/TvFP2qexkiZtDi08SRhCVDLJMqko2NzAll7DB4rS8Qan4ovPi5b+GNB1hNNspNF+2zSG2jlaMiYqWUMOWPyrySACTjNRaz8KbvU9P8QaXbeJnttK1y7e+lt2slkdJmKk/vNwym5QQoAPAGcdeo/wCEXP8AwsZfFZvOV0k6abURdczCTfuz7Y24/GlzU0lbfXp6W6eoanPWGo+J/GGreILnRNaj0qz0i/k062tPsiSi4liA3tKzDIUscAIVOB1p/wADv+SL6B/uTf8Ao+Srj+Br611jVJ/D/iKXTLHV5TPeWn2ZZWErAK7xOT8hYAdQwzz7VqeCfDI8HeDrHQVuvtYsw4E3l7N26Rn+7k4xux1PSpnKPJZeX5MaTuct4cv/ABb430u58S6Zr0em2clxMmmWH2OOSOSONygaZm+fLFTkKVx71yHhXxk3hr4OeB9Nh1K20mTVpLlX1G5AK2sUcrl2CngsdyqM8ZPSvQLbwFqWlPeWegeJpNP0W8meZrP7GskkBc5cRSlvlBOSMq2M1Bp/wwXTPCug6fZaxJBqegPM9lqUcA4ErMXRo2YgqQwBGc/KDkVpz09ul+3k99P8xWZzsHjjV9Ti8S6F4a8T2+tahZacupadqcMERZwrYkhdQuwtkAAgDh/bNdD/AMJje+Itb8G2vhy48iHUbY6rqJEatttlUARncDjdI23IwRtPNdTollrdp5x17WYNTZ9vliCy+zrHjOeN7E5yO/asTwX8PrfwdqmqXkd612Lttlsjx7fscHmPIIVOTkbpGOeO3FQ509dP6+5eo7M5jwlrjj4G6RqV34gt/DjyXMwkubfT4cyYnlUJHEF27jgdEJODwSc1Rk8S6l4m+HvxB0ibWJ5n0W1dl1D7CLd7uB7d38t4nQbTwykhV4wV9a6Ky+Fk2meG/Dlnp+veXqXh64uJra8ezDxv5zOWDQl+eHwDuyMZ71e074dtAfFjarrMuoP4ogSG5fyBG0YETRnbgkYw3AxwABz1q+ekm2u/bz9O3n8hWZyjm/0f4d/D3ztQ/tFb7WNKRVvLOBxbxOn3E+Tgjs/3x610VpqHiHxrrmuro2unQtO0e9bTozFaRzSTzIoMjP5gOFBYAAYz61IPh9qE/h7w/pWpeII7hdB1O1vLeVLDyy8cAwsTDzDyf7//AI7Vi58E6laa/qOp+E/ER0caowkvbeWyW5RpQMeYmWXYxHXqD6VLnB9VfXp5+gWZyt74+8S3HhDS/sc9taa5H4qTQL1/KDwysCyk7TyFPyk7SD1AIroItT1/w58SNG0PVtY/tmx12C4MTSW0cMltLCoY42AAoQ3Q5Oe9St8MrOLw/oOlWF9JENJ1iHVpZ5k8x7uRGLNuORgsW684x0rY1bwv/anjTw9r/wBr8r+xRdDyPK3ed5yKn3sjbjbnoc+1Jzp7LbXp9wWZyvwy/wCR7+I3/YaX/wBFCvSa82+GX/I9/Eb/ALDS/wDooV6TXKWFeV/Ee6vtE+K3hDxDB4f1rWbOytbxJ10mya4dC6qq5xgD8SOhr1SigDzb/hcn/VOPiB/4I/8A7Oj/AIXJ/wBU4+IH/gj/APs69JooA82/4XJ/1Tj4gf8Agj/+zo/4XJ/1Tj4gf+CP/wCzr0migDzb/hcn/VOPiB/4I/8A7Oj/AIXJ/wBU4+IH/gj/APs69JooA82/4XJ/1Tj4gf8Agj/+zo/4XJ/1Tj4gf+CP/wCzr0migDzb/hcn/VOPiB/4I/8A7Oj/AIXJ/wBU4+IH/gj/APs69JooA82/4XJ/1Tj4gf8Agj/+zo/4XJ/1Tj4gf+CP/wCzr0migDzb/hcn/VOPiB/4I/8A7Oj/AIXJ/wBU4+IH/gj/APs69JooA82/4XJ/1Tj4gf8Agj/+zo/4XJ/1Tj4gf+CP/wCzr0migDzb/hcn/VOPiB/4I/8A7Oj/AIXJ/wBU4+IH/gj/APs69JooA82/4XJ/1Tj4gf8Agj/+zo/4XJ/1Tj4gf+CP/wCzr0migDzb/hcn/VOPiB/4I/8A7Oj/AIXJ/wBU4+IH/gj/APs69JooA82/4XJ/1Tj4gf8Agj/+zo/4XJ/1Tj4gf+CP/wCzr0migDzb/hcn/VOPiB/4I/8A7Oj/AIXJ/wBU4+IH/gj/APs69JooA82/4XJ/1Tj4gf8Agj/+zo/4XJ/1Tj4gf+CP/wCzr0migDzb/hcn/VOPiB/4I/8A7Oj/AIXJ/wBU4+IH/gj/APs69JooA82/4XJ/1Tj4gf8Agj/+zo/4XJ/1Tj4gf+CP/wCzr0migDzb/hcn/VOPiB/4I/8A7Oj/AIXJ/wBU4+IH/gj/APs69JooA82/4XJ/1Tj4gf8Agj/+zo/4XJ/1Tj4gf+CP/wCzr0migDzb/hcn/VOPiB/4I/8A7Oj/AIXJ/wBU4+IH/gj/APs69JooA82/4XJ/1Tj4gf8Agj/+zo/4XJ/1Tj4gf+CP/wCzr0migDzb/hcn/VOPiB/4I/8A7Oj/AIXJ/wBU4+IH/gj/APs69JooA82/4XJ/1Tj4gf8Agj/+zo/4XJ/1Tj4gf+CP/wCzr0migDzb/hcn/VOPiB/4I/8A7Oj/AIXJ/wBU4+IH/gj/APs69JooA82/4XJ/1Tj4gf8Agj/+zo/4XJ/1Tj4gf+CP/wCzr0migDzb/hcn/VOPiB/4I/8A7Oj/AIXJ/wBU4+IH/gj/APs69JooA82/4XJ/1Tj4gf8Agj/+zo/4XJ/1Tj4gf+CP/wCzr0migDzb/hcn/VOPiB/4I/8A7Oj/AIXJ/wBU4+IH/gj/APs69JooA82/4XJ/1Tj4gf8Agj/+zo/4XJ/1Tj4gf+CP/wCzr0migDzL4RG+u9a8aave6LqmkRanqaT28Wp2rQSFfLxnB9/QmvTaKKACiiigAooooAKKKKACiiigAooooAKKKKACiiigAooooAKKKKACiiigAooooAKKKKACiiigAooooAKKKKACiiigAooooAKKKKACiiigAooooAKKKKACiiigAooooAKKKKACiiigAooooAKKKKACiiigAooooAKKKKACiqup/wDIJu/+uD/+gmvAfDGp3Xhf4YXNlqkoOj+INMuZLKZjxDcgMrQk/wC0Bke/HUmlffy/4P8AkUldpd/+B/mfRFFeWaP4m12PRPCnhnwhbafJqMujR3k02pM4ijiACgYTkkn8vTnIb/wtDX7nTtJjsdLsRq0+rSaTeQyu3lCVAMsjA5A5zzu9OetVJWbX9b2/MhPS7/rS/wCR6rRXl+seN/GlhrGp6Xa2Whyz6ZpCahcyuZQgYDLhRnLA87Qdvue1S6B8Q/EF94k8Pw6xp2m22meILSSa28iV2liKJuJdjhcHBwAOARzwcpa7f1v/AJMb0/r0/wA0el0V5ZoHxN1i88a6fpt7/ZF9pmpTTwQXOmw3KbGjGfvyqEk9Dsz1znpnnfD9zFBpegrLZwXJl8YTIjSs4MRz95drAZ/3sj2ojq15/wCaX6ik+Vf12b/Q91orze28U+N2+IyeH5k8PXFrF+/vZbRZy1pBn5d7MwUOw6AA+vTmqOj/ABN1288WWmmyf2LfWepPcQWlzYw3SKkkYyNzyKFkHQHZnrnPTKWqVuo3o35Hq1FeDrrPiK4+Fniy68UCw1a0i1ExrFLLOT5omQMowykRDI2gEH1rstS8ZeKLjVNUs/B1hpTW+g26PePfvJulZk37Iwp4wARlj1p6Wv8A1tcdj0aivNH+Imvaxf8Ahy38Lafp4bW9PlucX7uBA656svVQQR93J9q6XwB4muvFfhZb7UreK3vYp5Le4jhzsDo2OMk8Yx3NO39ejt+ZN1/Xpf8AI6aiiikMKKKKACiiigAooooAKKKKACiiigAooooAKKKKACiiigAooooAKKKKACiiigAooooAKKKKACiiigAooooAKKKKACiiigAooooAKKKKACiiigAooooAKKKKAGTwrcW8kLkhZEKEjrgjFcvL8OdEuPAMXhG4NxLYQ8xSsy+cjbi24Ntxnkjp0OK6uilYDj7/AOGulXthpMEN/qlhcaTALe3vrG5EU5jxgqzBcEHr0H6mpbf4c6JaWuiwWpuo10e5N3EwkBaeUj5mkJByT14x7YHFdXRVXd7/ANd/zFZWt/XY5678F6de6xq2pSzXQm1Ww+wTqrrtWPGMr8uQ31JHtVeH4faTDLoD+ddv/YVvJbW6s64kR02NvwvJx6YrqaKW39ev+bH/AF+X+SOI0j4U6No2o6ZeQajq87aXK72sVxdh44w4wUC7cBe/GDk8k8VYt/hto9tDZRR3N8VstTbVIyZEyZW6g/L9324PvXX0Uf1+X+SFZP8Ar1/zZwmm/Cmw0vVJL238ReIiZ5zPcwNfKI7lj18xVQbs1JpHwp0bRtR0y8g1HV520uV3tYri7DxxhxgoF24C9+MHJ5J4rt6KFpsN67nFT/CzR5rPWbMX+qx2esSiaa2W4UxxPvDlo1KnBJHOc8cVJrnwz0jXNSkvTfarp8lxCsF2thdeUt2ijAEgwd3HHbiuxoo6JAYEXgzSrfXNK1O1Etu2k2rWltBGw8sRkY5BBJPvn86seG/DVn4W0+az0+SeSOa5kuWM7AkM5yQMAcVr0Uf1+N/zFZf1935BRRRQMKKKKACiiigAooooAKKKKACiiigAooooAKKKKACiiigAooooAKKKKACiiigAooooAKKKKACiiigAooooAKKKKACiiigAooooAKKKKACiiigAooooAKKKKACiiql3q2nWEoivtQtbaQruCTTKhI9cE9ODQBborN/4STQ/+gzp/wD4FJ/jR/wkmh/9BnT/APwKT/GgDSorN/4STQ/+gzp//gUn+NH/AAkmh/8AQZ0//wACk/xoA0qKzf8AhJND/wCgzp//AIFJ/jR/wkmh/wDQZ0//AMCk/wAaANKis3/hJND/AOgzp/8A4FJ/jR/wkmh/9BnT/wDwKT/GgDSorN/4STQ/+gzp/wD4FJ/jR/wkmh/9BnT/APwKT/GgDSorN/4STQ/+gzp//gUn+NH/AAkmh/8AQZ0//wACk/xoA0qKzf8AhJND/wCgzp//AIFJ/jR/wkmh/wDQZ0//AMCk/wAaANKis3/hJND/AOgzp/8A4FJ/jR/wkmh/9BnT/wDwKT/GgDSorN/4STQ/+gzp/wD4FJ/jR/wkmh/9BnT/APwKT/GgDSorN/4STQ/+gzp//gUn+NH/AAkmh/8AQZ0//wACk/xoA0qKzf8AhJND/wCgzp//AIFJ/jR/wkmh/wDQZ0//AMCk/wAaANKis3/hJND/AOgzp/8A4FJ/jR/wkmh/9BnT/wDwKT/GgDSorN/4STQ/+gzp/wD4FJ/jR/wkmh/9BnT/APwKT/GgDSorN/4STQ/+gzp//gUn+NH/AAkmh/8AQZ0//wACk/xoA0qKzf8AhJND/wCgzp//AIFJ/jR/wkmh/wDQZ0//AMCk/wAaANKis3/hJND/AOgzp/8A4FJ/jR/wkmh/9BnT/wDwKT/GgDSorN/4STQ/+gzp/wD4FJ/jR/wkmh/9BnT/APwKT/GgDSorN/4STQ/+gzp//gUn+NH/AAkmh/8AQZ0//wACk/xoA0qKzf8AhJND/wCgzp//AIFJ/jR/wkmh/wDQZ0//AMCk/wAaANKis3/hJND/AOgzp/8A4FJ/jR/wkmh/9BnT/wDwKT/GgDSorN/4STQ/+gzp/wD4FJ/jR/wkmh/9BnT/APwKT/GgDSorN/4STQ/+gzp//gUn+NH/AAkmh/8AQZ0//wACk/xoA0qKzf8AhJND/wCgzp//AIFJ/jR/wkmh/wDQZ0//AMCk/wAaANKis3/hJND/AOgzp/8A4FJ/jR/wkmh/9BnT/wDwKT/GgDSorN/4STQ/+gzp/wD4FJ/jR/wkmh/9BnT/APwKT/GgDSoqtZ6lY6hv+wXlvdeXjf5Mqvtz0zg8dD+VWaACiiigAooooAKKKKACvHpvCeheLP2hvEUHiPTINQig0i1eNZgSFJJBIr2GvNtE/wCTjvFH/YFtP/QjQBpf8Ka+Hn/Qp6f/AN8n/Gj/AIU18PP+hT0//vk/4129FAHEf8Ka+Hn/AEKen/8AfJ/xo/4U18PP+hT0/wD75P8AjXb0UAcR/wAKa+Hn/Qp6f/3yf8aP+FNfDz/oU9P/AO+T/jXb0UAcR/wpr4ef9Cnp/wD3yf8AGj/hTXw8/wChT0//AL5P+NdvRQBxH/Cmvh5/0Ken/wDfJ/xo/wCFNfDz/oU9P/75P+NdvRQBxH/Cmvh5/wBCnp//AHyf8aP+FNfDz/oU9P8A++T/AI129FAHEf8ACmvh5/0Ken/98n/Gj/hTXw8/6FPT/wDvk/4129FAHEf8Ka+Hn/Qp6f8A98n/ABo/4U18PP8AoU9P/wC+T/jXb0UAcR/wpr4ef9Cnp/8A3yf8aP8AhTXw8/6FPT/++T/jXb0UAcR/wpr4ef8AQp6f/wB8n/Gj/hTXw8/6FPT/APvk/wCNdvRQBxH/AApr4ef9Cnp//fJ/xo/4U18PP+hT0/8A75P+NdvRQBxH/Cmvh5/0Ken/APfJ/wAaP+FNfDz/AKFPT/8Avk/4129FAHEf8Ka+Hn/Qp6f/AN8n/Gj/AIU18PP+hT0//vk/4129FAHEf8Ka+Hn/AEKen/8AfJ/xo/4U18PP+hT0/wD75P8AjXb0UAcR/wAKa+Hn/Qp6f/3yf8aP+FNfDz/oU9P/AO+T/jXb0UAcR/wpr4ef9Cnp/wD3yf8AGj/hTXw8/wChT0//AL5P+NdvSO6xxs8jBEUEszHAA9SaAOJ/4U18PP8AoU9P/wC+T/jR/wAKa+Hn/Qp6f/3yf8a0NO+I/hLVtVj07T9bgluZWKRDaypMw7I5AVz7KTU19478NabrD6VfarHDfpPFbm3MbljJKNyAYHOQRkjgdyKv2c72sBk/8Ka+Hn/Qp6f/AN8n/Gj/AIU18PP+hT0//vk/41p+GdYN5L4hlutdgv4LLUpYcC2MAslQDMTMcbtvXd09/StbfFHwZeXMUFtrkTyTTpBEPKkHmuzbRtJXDDJA3DgZGTR7OV7JAVf+FNfDz/oU9P8A++T/AI0f8Ka+Hn/Qp6f/AN8n/Grtl4iitda8WNqmvQ3FppPlTPbraMh0+MxFjubH7zIBbjJH4gUtv8S/B91q1tpsGu27XV0QIV2sFZiAQu8jaG5Hyk5zxjNP2cuiAo/8Ka+Hn/Qp6f8A98n/ABo/4U18PP8AoU9P/wC+T/jWtr/jvw34YvBa65qa205jEpjWJ5CqEkbm2KdoyDycdKyvGvii6sV8IT6Bex/ZtX1u2t5ZEVZFmgkDEgEg9cDkc0RpydtNwE/4U18PP+hT0/8A75P+NH/Cmvh5/wBCnp//AHyf8a6fWdd03w/aRXOsXItoJZkgWQozDexwoOAcZPc8e9Goa7p2lX1hZ39yIrjUZTFax7GYysBk9AcADkk4AqOVvoBzH/Cmvh5/0Ken/wDfJ/xo/wCFNfDz/oU9P/75P+NaWlfEPwrrerppmmaxFPdygtEmx1EwHXYzAK+Ovyk1mab4ruo/iF43tdXu8aRolta3ES+UP3KtCzyHKjc33c459qv2ctbrb/hgF/4U18PP+hT0/wD75P8AjR/wpr4ef9Cnp/8A3yf8a3rvxZolj4Wj8R3V8E0mSOORLny3OVkICHaBu53Dt3o1/wAXaF4X8ka5qCWzzgmKMI0juB1IVATgdzjFSoyeiQGD/wAKa+Hn/Qp6f/3yf8aP+FNfDz/oU9P/AO+T/jXXadqNnq2nQX+mXMd1aXCb4pomyrCrNTsBxH/Cmvh5/wBCnp//AHyf8aP+FNfDz/oU9P8A++T/AI129FAHkvgjQNK8NfHzxNp2g2MVjaLpFq4hiGFBLHJr1qvNtE/5OO8Uf9gW0/8AQjXpNABRRRQAUUUUAFFFFABXm2if8nHeKP8AsC2n/oRr0mvNtE/5OO8Uf9gW0/8AQjQB6TRRRQAUUUUAFFeTW3hjT/FXxo8b2uuCa4sYYrFvsazvHG7tDjcwUjcQAQM8Dca5/wDt/U9E+Her6DZ3V/IkHi06FbzxPvuY7VmB2oxP3sZUEn+IdMDHSqF9E9dPxA95orx6zsDpninQbnwT4R8Q6Oftiw6m12v7me2YEMz/ALxsspwwOM9eaz3jmi0rV/hnDK8Ut34kFvEUPzRWUo+0lh9ERx+NHsE9mB7jRXjfhnULnxfq/gXSb0sZdBt57rU0J6zQN9mjz77wzV0nxDVtD8T+F/GERIis7z7Bf46fZ5/lDN7K5B+pqXRtLlb1/r8wPQKK8r066026l8deN/EVxLFpMjHS7eSN2DLbxfu2MZXn55CcY7gVn6DCug/Fnw6mieHNQ8N6frFvdRzw3dwrfa/LjDq5jDsVZT3ODzj1p+x312/yuB6J4R8VDxVDq0gs/sv9napPp2PM3+Z5ePn6DGc9OfrXQV8+aoSPgn8QWGQF8WzEn0H2iGvQfGrj/hb3w6UNy0t/wD1HkCqlRXNp5/grgehUV4Nocln4y0i71vxH4Y8TatqV9cTeTeWY/d2aq5VEh/ert27RnjJOc5r1fwDNrU/gPSm8URSRaqsJS4WUfOSrFQze5ABP1qKlLkW4HRUUUVgAUUUUAFFFFABRRRQAUUUUAFFFFABRRXAeIPjDoOmat/Yvh+G68Ua5kj7Bo6eb5eDgmST7qgHg9SvcCgDv6434swXt58K9etdJ3NePa7hHGfmeMMpkAHf5Mj8cd6wTo/xS8Zr/AMTvV7XwXp0nW00r9/eFcdGmPCn3Strwz8JfC/hjWotbhS91HWolZV1LUbx5pvmBU9wuSCRnb3NVGXLJS7Acr4+1vw/r3wo0vTfCV1bXGo3U1ouj21s4MsMispztGSu1QwJPToa2fCtrC/x58c3MkaPcQ21giSFeVDQ/MB6Z2j8q7i10LSLG+kvbLSrK2upM754bdEd89csBk1PFYWcF7PeQWsEd1c7fPnSMB5dowu5hy2BwM9K2dVKLiv61X+QHiF5b31z8MfivHpau83/CRXLMqfeMYaIyAf8AAA1anxB17wzqen+AIdCu7Odv7dsXto7dlZoYRwQQPuj7owe49uPVjp6Wdne/2Jb2lndXJeXeIQFedh99wuC3OMnOT61wtp8P9U1DWtPn1628O6bZWF6moGHQ7dla7nQHY0jMBgAknHOfWtY1Yt3fT/KwHP6j/wAf3xr/AOvGD/0jen+NLS3tf2X9LFvCkfk2unSx7RjY7PGSw9Cdzc+5r1htI01mvGbT7UtfqFuyYFzcADAD8fMACRzng0s2k6dc6Yum3Fhay2KqqLayQq0QVcbRsIxgYGBjjFR7dXTts1+CSA4PX/Gc8/jDWdAh1XR/D9tpdtE1zd6nD5slyJFLYjQuoKqDgnnk9Oa4nSmLfCr4UZJbHiWIAn0EswH6V7hdaNpl9ew3l7p1pcXVv/qZ5oFd4+c/KxGRz6Ui6HpKW9vbppdksNrN59vELdAsMmSd6jGFbJJyOck0o1oxikl/VmgKHjXw8vivwTquisBuurciInosg+ZD+DBTXm3hHxFL4s1T/hL9QtpZU8JaEY2i2/M96ykz7R67UC4/2hXs1V7PT7PTxKLC0gtRNIZZRDEE8xz1Y4HJOOp5qIVOWLi1/XUDxDUPEt34jn8A6ld61oxNzrdpLBpGnxZltUOQd8hcngEKRtAyfatyWCW68b/Fy3t0aSaXSLZI0UcsxtZAAPxr0iPw1oULFodF06NmmWclbRATKvKv0+8Ox6ircVhZwXs95BawR3Vzt8+dIwHl2jC7mHLYHAz0rR1o9F/V0wPCvEfijRLv9mbStNttTtpb5rayh+ypIGlVo3TflRyANp5PHT1FdDf3+sab8cNdaK/0SwefT7ZbF9ZVwJIQCXWIqyj/AFmSR9PQ16SfDOgn7VnRNO/0z/j5/wBEj/f85+fj5uQDz3FT6jpGm6xCsOr6fa38SnKpdQLKoPrhgafto7Jd/wAbf5Ac58NdHl0fw5drJqVhqCXWoz3UTacSYIg7ZMacngNu4zxmuvqG0s7awtVtrG2htoE+7FDGEVfoBwKmrmnLmk2AUUUVIHm2if8AJx3ij/sC2n/oRr0mvNtE/wCTjvFH/YFtP/QjXpNABRRRQAUUUUAFFFFABXm2if8AJx3ij/sC2n/oRr0mvNtE/wCTjvFH/YFtP/QjQB6TRRRQAUUUUAY+n+GbLTfFOr6/BJO13q6wrOrsCiiJdq7RjI4POSazl+HegnS9b0+7imu7bWr97+4WZ+UlbByhUArjaMd/eupoq+eXf+kBzOkeCv7Jv4Ln/hJvEN6lvnZb3l8JIzkEfMNoLde5Papz4M0pvHq+LiJv7SW1+yhdw8vGT8+MZ34JXOcYPSt+ijnle9wMDRPBmlaB4i1nWrAS/atYdXuN7AqhBJ+QY4BLEnk5NXvEGh2fiXw/e6NqYc2t5EY3KHDL3DAnPIIBHHUUuvazbeHfD1/rN+JGtrC3e4lWMAsyqpJCgkDJxgZI5qXStRh1jRrLU7VZFgvbeO4jWVdrBXUMAR2ODyKXNJvmvqBkHwLoj+Al8HzwyTaUIBEQ7/OxB3bywx8275s+vbtVLT/hxp9j4g03WptV1nUNQ00SLDLfXfm5R0KFSNuMck8YJPUmuvop+0nrruBzNt4B0WDQdb0aVZrqy1u7mu7pJnGQ8mM7SAMAFQR3B71R0v4X6RpmtaXqr6jq1/e6XuFvLfXfmkIUKBPu8KAxIxjnrmu0op+0nrqBx8nw30+PULq60bV9a0RbuQyz2+nXmyF5D1fYysFJ9VxXU2VqLGwgtRNNOIYwglnffI+BjLMep96noqZTlLcAoooqQCiiigAooooAKKKKACiiigArn/F/jfRPA+li81y4IaQ7be1hXfPcv2SNO56DsBnkisnxx8QT4evbbQPDlj/bXim/H+i6ejYWJe8szfwoPwzjsMkQeC/hv/ZepN4m8Y3S654suBmS8cZjtR/zzgU/dUZxnAJ56ZIoAx10Lxt8TSZvFlzN4T8Nuf3ejWT4vLlP+m8v8IP90Y4OCMjNd/4d8LaH4S00WHhzTLfT7cY3LCvzOQMZZjyx92JNa1FABRRRQAUUUUAFFFFABRRRQAUUUUAFFFFABRRRQAUUUUAFFFFABRRRQB5ton/Jx3ij/sC2n/oRr0mvNtE/5OO8Uf8AYFtP/QjXpNABRRRQAUUUUAFFFFABXm2if8nHeKP+wLaf+hGvSa820T/k47xR/wBgW0/9CNAHpNFFFABRRRQAUUUUAFFFFAHC/GuRovgv4lZOptQv4F1B/Q11ehRrD4d06KP7iWsSr9AgrB+Klg2pfCbxNbIpZv7OlkVQMklF3gD/AL5q/wCBdRGr/D3w/qAxm406B2AOcMYxuH4HIoA3qKKKACiiigAooooAKKKKACiiigAooooAKKKKACuL+IvjmTwtZWum6HbrqHibVn8jTLHrlj1lfHRFHJPHTqBkjLt/jNoVpL4ptPEckdhf+HJpd8O7/j5hD4jaPPVjlAR2Y+hp3wy8NX1zcXPj7xfCB4g1tQ0MDA/8S+1x8kKg9DjBbocnnnOQDW8AeAovB9rcXmoXJ1TxFqR8zUtTk5aV/wC6v91B0A46fQDsKKKACiiigAooooAKKKKACiiigAooooAKKKKACiiigAooooAKKKKACiiigAooooA820T/AJOO8Uf9gW0/9CNek15ton/Jx3ij/sC2n/oRr0mgAooooAKKKKACiiigArzbRP8Ak47xR/2BbT/0I16TXm2if8nHeKP+wLaf+hGgD0miiigAooooAKKKKACiiigBksSTwvFMoeORSrKehB4IrzP4K3T6TYa14Cv3f7b4Xvnii8w/NLayMXhk/EE8dht6ZxXp9eZ/EjR7/wAP+IbH4k+GbZ7m802I2+rWcR5vLEnLYHdkPzD1x/sgUAemUVnaDr2neJtCtdY0W5W5srpN8ci/qCOxByCDyCCK0aACiiigAooooAKKKKACiiigAooooAKKKyvEviC38L6Dcave29zPa22GmFsgdkXOC+CRkDqcdBzTSbdkB8hfEPw5q/iv9obXtM8MWkt1etdhgIzjy8KuXZuigHufbvX0l8NfAniTwvaJP4t8Zanrl4y82zzs8EWRyMvlnIPfIHtxWnpWpeGdO8VjTPD9n519rkbarc3Nqoddh+7JK5OQGzhQM+wArY8TeIrPwp4duda1JZWtbbZ5ghALfM4QdSB1Yd+lPlldK24GrRXCv8XPDtvdxR39vqtjbXKs1ne3Ni6Q3m0ZxGfvEkdAQM5GOozp6H4307xJdahpkdvqWl6jaRCSS1vrfyZhGw4kUHII/keoqnSmldoDp6K870T4haHoPwz8P6tqF/q15Z387Wsd3fIrzlt0nzSBSePkIGMnG3gmtvRPH+m6z4gbRJLHU9K1AxGaGHU7Uwm4jHVk5OcehwevHBpulNX02A6mivO9I8Uiz0bxF451VL26smvnt4Yrb5xBawuYg4QkdWDuxHPPoK6b/hLdLufENjodn5t9NfWZvPMtwGjigx8ru2RgNnC4zn260nTkmBvUVyHgC7uY11rw/fTyTyaHqDW8UsrFna3dRJFuY9SFfbn/AGRXX1Mo8rsAUUUVIBRRRQAUUUUAFFFFABRRRQAUUUUAFFFFABRRRQB5ton/ACcd4o/7Atp/6Ea9JrzbRP8Ak47xR/2BbT/0I16TQAUUUUAFFFFABRRRQAV5ton/ACcd4o/7Atp/6Ea9JrzbRP8Ak47xR/2BbT/0I0Aek0UUUAFFFFABRRRQAUUUUAFFFFAHlmq+FNc+HevXHiP4b2v27S7yTzdV8NqdoZu81v8A3Xx1XvjHPAHDar8fNOsvjPpWqWU1wdButLS01O2liKSWsoml5Zf7yZGQM8E4617/AKxNqMGj3MmiWsN1qATEEU8nlxlicZZvQdTjk4wK+d9Q/Zs8YeKtZudZ8WeK9P8A7Qu5C8rQRPKB6AZ2YAGABjigD6SgniubeOe3kWWKVQ6SIcqykZBB7gin1w3wu8D654B0WTR9U8RJrNgmDaIbYxtb+qhi5yvoMcc/SudvPGGqfDrUNd0DUXutWuLsi58NGZmlecyME+zlicnY5B5OduT6VpCm56LcD1uiuDg8O+JbTS/CulNq99cyx3ovNZ1Brk5cKpYw9c7GcqoA4wvNde+taXHIySalZo6khladQQR2IzSlG2zuBdoqC1vrS93fY7qG42Y3eVIG259cVPUAFFFFABRRRQAVh+Mdfs/DXhW81C/h+0qE8uO1AybmRuFjA75J/LJ7VuUU00ndgeNfDjRrrwRq914U8RH7Jd+IbNZ7LULZjujKpte2VmyMxZyvUYyfQVf+KXh2TRvg94kZtb1bVTNHAoW/mWQJidPu7VXk16tRW/t25qfp+AHnHxNjUt4BGwFV8S2fGOAMN/8AWp16CP2h1KjAbwo4Yjv/AKTxmvRaKlVbK1u/4geAaPHu+EvwpV0yB4li3Ajp++m6133ipf8Ai+HgFsf8sdRBOP8ApiK9BoqpVryvbv8AiB5f4d8QWnhH4U6rb6pD9pm0e/u7BrQDLXMjzM0aAd96yL26ZPaqHwt025+HviSTw54khiS61u3S7s7pCSMouHtMkn/V5yvsT7CvU4NJsbXVrvU7eAR3d4qLcSKx/ehAQpIzjIBxnGccdqtsoZSpzgjBwcH8xQ6ys1bff+vUDjPBBN94s8Z6xH/x73GpR2sR7N9nhWNiPbduH4Gu0qppWlWWiaXBp2l2629pACI41JOMnJ5PJJJJJPJJq3WU5KUroAoooqACiiigAooooAKKKKACiiigAooooAKKKKACiiigDzbRP+TjvFH/AGBbT/0I16TXm2if8nHeKP8AsC2n/oRr0mgAooooAKKKKACiiigArzbRP+TjvFH/AGBbT/0I16TXm2if8nHeKP8AsC2n/oRoA9JooooAKKKKACiiigAooooAKKKKACiiigArxvU9K1L4o3+qeJtIuJLddBfyfDZBws08bBpJSO6uVCDtjntXslFaU6jhqtwMPwb4nh8XeFrXVoUMMkgKXEDcNBKvDoR7Hp6gg965q/8ACWqXGpXM0fhHwNOkkzsstxG3mOCSdz/uT8x6nk816DRQp8rbigOb8I6Nd6R9r+2aL4f0vzdm3+xVI8zG77+UXpnjr1PSrHivRdX1zTYoNB8RT+H50mDvcQ26TF1wRsIbpyQc+1blFTKTk7sDzb/hXvjv/oq+of8Agqgo/wCFe+O/+ir6h/4KoK9JoqQPNv8AhXvjv/oq+of+CqCj/hXvjv8A6KvqH/gqgr0d32Rs552gmvLrX40yzeGLTxPceFLuHw+8giur8XKt5DFtuVTAZ1BwC3HOQM4rSFOU/hAtf8K98d/9FX1D/wAFUFH/AAr3x3/0VfUP/BVBV+L4i3kGv6Vaa94YutJ0/WZPKsL2W5Ry0hGVSSNeYyR2yefocWfE3jLW/DrXt2vhGe70ewAee9W9jVigUM7pFyWCgnqV6Gn7Kd7fqgMf/hXvjv8A6KvqH/gqgoPw+8dAEn4sagAOpOlwf41v3/jm307W9DiuLYLo+txZttVMuEWUjcsbKR8u5eQc9eMd65rXvGE/izwSqWFrJY2WuaxFpFndGX57iBnxJMFwNoKK4HJOOeKI0pO3YCVPAHjiRFeP4s37qwyGXS4CCPzpD4B8cCQIfizfB2BIX+y4MkDqcZ966G98V2fhbxLY6BqFkmn6XNZs1lf+Z+6BiXLQkY+QhBkcnIHrxXM+IPEM2r+BbHx5Fp0mnNpWopcWW98yXFm8ixOWGBtDoxO3n7qnNEaUm12YE/8Awr3x3/0VfUP/AAVQUf8ACvfHf/RV9Q/8FUFek154PiZqt5ca3DoXg+51I6JeTW1063iRqVQ8FSwyzkAnYAcccnNTGEpbAQ/8K98d/wDRV9Q/8FUFH/CvfHf/AEVfUP8AwVQUg+MKSaNaeIovDl7/AMIxNIkU2qSTIphZiFJ8rksqudpbPUHGe+sl9YRfGq7tVsZvt/8AYCzvd/amKGMTYCCLGAc87s/hyar2UluBlf8ACvfHf/RV9Q/8FUFH/CvfHf8A0VfUP/BVBUFn8YNQv/CCeKLXwZeSaNGCby4W8jBiCnDGNCAZAvc/KM59Ca9KsryDULC3vbR/Mt7iJZYnH8SsMg/kaU6cofEB50PAPjgyNGPi1fF1ALKNLgyAenGaV/AHjiNGeT4s36KoyWbS4AAPzqDQfEU+keAb/wAfHTX1J9U1B7i8CSbXhs0kaNCowdwRFB28dWOa6ez8V2XinxFdaDptmmo6Wlkr3t95n7oeauViC4+clDk8jAPrxTlSkm+yAwP+FfeOj0+K+of+CqD/ABo/4V747/6KvqH/AIKoK2fhncTf8Ixc6VcyNK+h6hcaYsjnLPHG37sn/gBQfhXYVEo8smgPNv8AhXvjv/oq+of+CqCj/hXvjv8A6KvqH/gqgr0mipA8+sPAnjS11K2nu/idf3cEUyPLbnTYFEqgglM9sjjPvXoNFFABRRRQAUUUUAFFFFABRRRQB5ton/Jx3ij/ALAtp/6Ea9JrzbRP+TjvFH/YFtP/AEI16TQAUUUUAFFFFABRRRQAV5ton/Jx3ij/ALAtp/6Ea9JrzbRP+TjvFH/YFtP/AEI0Aek0UUUAFFFFABRRRQAUUUUAFFFFABRRRQAUUUUAFFFFABRRRQAUUUUAMnBNvIAMkocAfSvF/wDhH9Y/4ZO/sX+yr3+1PK2/Yvs7edn7Zu+5jPTnp05r2uitYVHD70/uA4L4h6bfXz+CjZWc9wLXxBaTT+VGW8qMBgXbHQDIyTXI+J7PXNWl8WWmv6F4j1K+dp00ZbOZ0sEtzHiNjsZVL9SwYEk4AHava6KqFZxS0A8l1XQ9S8XeEPCngVrC6tLN9Nt59VvprZl+ziNF2xIWGPNLjkdQAfU1FdyazbfDXTzrmnS2934M1a2knZYSsV1bxNsM0WBgr5bEnHTaeBwK9fpskaSxtHKiujgqysMhgeoIpqt0tpuB5v8AEPQrz4k6ha+FreOS20eKE31xqphyjybSIY4mIw3LbmI7cZFUtX1HVNd+Ftl4b1fTpLDXb+/h0mSIwlEfZIGkmj4AaPy0LZXgdK9TgghtbeO3tYkhhiUJHHGoVUUDAAA4AA7U17S2luorqS3ie4hDLFMyAvGGxuCnqM4GcdcCkq1klbbYDGvfBOg6jrh1e7tZnvS6PvW8mVcqAF+QOF/hHGOe9YPw802+sX8am9s57cXXiC7mg82Mr5sZCgOueoODgiu9oqPaS5eVgeKf8I/rH/DJ39i/2Ve/2p5W37F9nbzs/bN33MZ6c9OnNdXFpl8PjbcX5s7gWbeF1txceUfLMonzs3dN2Ocda9Aoq3Wbvpvf8bf5AeVeHNF1OD9mKbSJ9Ouo9SOl3kYs3hYSlmaXauwjOTkY9ciu88HQS2vgXQbe5ieGaLTbdJI5FKsjCJQQQeQQe1bNFTOo5X83cDyjRNS1PQ/hdeeHNI06TUNcsNQm0mOERF0TfIWSaXg7Y/LcNk8HpVz4d6Fe/DbU7vwtcxS3OjSxC+ttVEOESTaBLHKwGF5XcpPbjPavRUtLaK6luo7eJLiYKssyoA8gXO0Mepxk4z0yadPBDdW8lvdRJNDKpSSORQyupGCCDwQR2qnWumrbgcj8MY5JfDl9rEilF1zVLnUYlYYIidsRn8URW/GuypscaRRrHEioiAKqqMBQOgAp1ZSlzSbAKKKKkAooooAKKKKACiiigAooooAKKKKAPNtE/wCTjvFH/YFtP/QjXpNebaJ/ycd4o/7Atp/6Ea9JoAKKKKACiiigAooooAK8j13/AITLwx8Y9V8QeH/BcviGzv8AToLcMl/HbhChJPUEn8hXrlFAHlv/AAsX4k/9EguP/B5F/wDEUf8ACxfiT/0SC4/8HkX/AMRXqVFAHlv/AAsX4k/9EguP/B5F/wDEUf8ACxfiT/0SC4/8HkX/AMRXqVFAHlv/AAsX4k/9EguP/B5F/wDEUf8ACxfiT/0SC4/8HkX/AMRXqVFAHlv/AAsX4k/9EguP/B5F/wDEUf8ACxfiT/0SC4/8HkX/AMRXqVFAHlv/AAsX4k/9EguP/B5F/wDEUf8ACxfiT/0SC4/8HkX/AMRXqVFAHlv/AAsX4k/9EguP/B5F/wDEUf8ACxfiT/0SC4/8HkX/AMRXqVFAHlv/AAsX4k/9EguP/B5F/wDEUf8ACxfiT/0SC4/8HkX/AMRXqVFAHlv/AAsX4k/9EguP/B5F/wDEUf8ACxfiT/0SC4/8HkX/AMRXqVFAHlv/AAsX4k/9EguP/B5F/wDEUf8ACxfiT/0SC4/8HkX/AMRXqVFAHlv/AAsX4k/9EguP/B5F/wDEUf8ACxfiT/0SC4/8HkX/AMRXqVFAHlv/AAsX4k/9EguP/B5F/wDEUf8ACxfiT/0SC4/8HkX/AMRXqVFAHlv/AAsX4k/9EguP/B5F/wDEUf8ACxfiT/0SC4/8HkX/AMRXqVFAHlv/AAsX4k/9EguP/B5F/wDEUf8ACxfiT/0SC4/8HkX/AMRXqVFAHlv/AAsX4k/9EguP/B5F/wDEUf8ACxfiT/0SC4/8HkX/AMRXqVFAHlv/AAsX4k/9EguP/B5F/wDEUf8ACxfiT/0SC4/8HkX/AMRXqVFAHlv/AAsX4k/9EguP/B5F/wDEUf8ACxfiT/0SC4/8HkX/AMRXqVFAHlv/AAsX4k/9EguP/B5F/wDEUf8ACxfiT/0SC4/8HkX/AMRXqVFAHlv/AAsX4k/9EguP/B5F/wDEUf8ACxfiT/0SC4/8HkX/AMRXqVFAHlv/AAsX4k/9EguP/B5F/wDEUf8ACxfiT/0SC4/8HkX/AMRXqVFAHlv/AAsX4k/9EguP/B5F/wDEUf8ACxfiT/0SC4/8HkX/AMRXqVFAHlv/AAsX4k/9EguP/B5F/wDEUf8ACxfiT/0SC4/8HkX/AMRXqVFAHlv/AAsX4k/9EguP/B5F/wDEUf8ACxfiT/0SC4/8HkX/AMRXqVFAHlv/AAsX4k/9EguP/B5F/wDEUf8ACxfiT/0SC4/8HkX/AMRXqVFAHlv/AAsX4k/9EguP/B5F/wDEUf8ACxfiT/0SC4/8HkX/AMRXqVFAHlv/AAsX4k/9EguP/B5F/wDEUf8ACxfiT/0SC4/8HkX/AMRXqVFAHlvw/t/FOpfFLXfE/ibwvJ4ehutPgtoonu0n3MjHuuO3tXqVFFABRRRQAUUUUAFFFFABRRRQAUUUUAFFFFABRRRQAUUUUAFFFFABRRRQAUUUUAFFFFABRRRQAUUUUAFFFFABRRRQAUUUUAFFFFABRRRQAUUUUAFFFFABRRRQAUUUUAFFFFABRRRQAUUUUAFFFFABRRRQAUUUUAFFFFABRRRQAUUUUAFFFFAH/9k=)\n"
      ]
    },
    {
      "cell_type": "code",
      "metadata": {
        "id": "AxjSUXFQqo-3"
      },
      "source": [
        "#from sklearn.preprocessing import StandardScaler\n",
        "sc = StandardScaler()\n",
        "X_train_standard = sc.fit_transform(X_train)\n",
        "X_test_standard = sc.transform(X_test)"
      ],
      "execution_count": null,
      "outputs": []
    },
    {
      "cell_type": "code",
      "metadata": {
        "id": "DWPET8ZdlMnu",
        "colab": {
          "base_uri": "https://localhost:8080/"
        },
        "outputId": "a1ccd1e7-9c84-4bd8-fd21-71156f5bdbb9"
      },
      "source": [
        "print(X_train_standard)"
      ],
      "execution_count": null,
      "outputs": [
        {
          "output_type": "stream",
          "name": "stdout",
          "text": [
            "[[-0.77459667 -0.57735027  1.29099445 -0.19159184 -1.07812594]\n",
            " [-0.77459667  1.73205081 -0.77459667 -0.01411729 -0.07013168]\n",
            " [ 1.29099445 -0.57735027 -0.77459667  0.56670851  0.63356243]\n",
            " [-0.77459667 -0.57735027  1.29099445 -0.30453019 -0.30786617]\n",
            " [-0.77459667 -0.57735027  1.29099445 -1.90180114 -1.42046362]\n",
            " [ 1.29099445 -0.57735027 -0.77459667  1.14753431  1.23265336]\n",
            " [-0.77459667  1.73205081 -0.77459667  1.43794721  1.57499104]\n",
            " [ 1.29099445 -0.57735027 -0.77459667 -0.74014954 -0.56461943]]\n"
          ]
        }
      ]
    },
    {
      "cell_type": "code",
      "metadata": {
        "id": "sTXykB_QlRjE",
        "colab": {
          "base_uri": "https://localhost:8080/"
        },
        "outputId": "652e96ca-cc02-4759-c094-cf9d9a7c3295"
      },
      "source": [
        "print(X_test_standard)"
      ],
      "execution_count": null,
      "outputs": [
        {
          "output_type": "stream",
          "name": "stdout",
          "text": [
            "[[-0.77459667  1.73205081 -0.77459667 -1.46618179 -0.9069571 ]\n",
            " [ 1.29099445 -0.57735027 -0.77459667 -0.44973664  0.20564034]]\n"
          ]
        }
      ]
    },
    {
      "cell_type": "code",
      "source": [
        "#from sklearn.preprocessing import Normalizer\n",
        "\n",
        "norm = Normalizer()\n",
        "X_train_normal = norm.fit_transform(X_train)\n",
        "X_test_normal = norm.fit_transform(X_test)"
      ],
      "metadata": {
        "id": "xwBdrTYa9hBI"
      },
      "execution_count": null,
      "outputs": []
    },
    {
      "cell_type": "code",
      "source": [
        "print(X_train_normal)"
      ],
      "metadata": {
        "colab": {
          "base_uri": "https://localhost:8080/"
        },
        "id": "b89L24vT-Bz9",
        "outputId": "c05bad7e-9550-4141-ca3d-6f2cfb03f817"
      },
      "execution_count": null,
      "outputs": [
        {
          "output_type": "stream",
          "name": "stdout",
          "text": [
            "[[0.00000000e+00 0.00000000e+00 1.92307639e-05 7.45726288e-04\n",
            "  9.99999722e-01]\n",
            " [0.00000000e+00 1.56794394e-05 0.00000000e+00 6.27177577e-04\n",
            "  9.99999803e-01]\n",
            " [1.38888863e-05 0.00000000e+00 0.00000000e+00 6.11110997e-04\n",
            "  9.99999813e-01]\n",
            " [0.00000000e+00 0.00000000e+00 1.63934394e-05 6.22950699e-04\n",
            "  9.99999806e-01]\n",
            " [0.00000000e+00 0.00000000e+00 2.08333300e-05 5.62499911e-04\n",
            "  9.99999842e-01]\n",
            " [1.26582255e-05 0.00000000e+00 0.00000000e+00 6.07594825e-04\n",
            "  9.99999815e-01]\n",
            " [0.00000000e+00 1.20481906e-05 0.00000000e+00 6.02409529e-04\n",
            "  9.99999818e-01]\n",
            " [1.72413762e-05 0.00000000e+00 0.00000000e+00 6.03448166e-04\n",
            "  9.99999818e-01]]\n"
          ]
        }
      ]
    },
    {
      "cell_type": "code",
      "source": [
        "print(X_test_normal)"
      ],
      "metadata": {
        "colab": {
          "base_uri": "https://localhost:8080/"
        },
        "id": "1BMWB_XL-CjL",
        "outputId": "306aeba8-f3dc-4e38-8991-74c36a1dd1c5"
      },
      "execution_count": null,
      "outputs": [
        {
          "output_type": "stream",
          "name": "stdout",
          "text": [
            "[[0.00000000e+00 1.85185157e-05 0.00000000e+00 5.55555470e-04\n",
            "  9.99999846e-01]\n",
            " [1.49253709e-05 0.00000000e+00 0.00000000e+00 5.52238722e-04\n",
            "  9.99999847e-01]]\n"
          ]
        }
      ]
    },
    {
      "cell_type": "code",
      "source": [
        "df = pd.DataFrame(X_train_standard)"
      ],
      "metadata": {
        "id": "0zzSOougGqkT"
      },
      "execution_count": null,
      "outputs": []
    },
    {
      "cell_type": "code",
      "source": [
        "df.describe()"
      ],
      "metadata": {
        "colab": {
          "base_uri": "https://localhost:8080/",
          "height": 300
        },
        "id": "GrZT6RuLGrba",
        "outputId": "77c70576-f332-4c1e-804c-7a9795ccdcbc"
      },
      "execution_count": null,
      "outputs": [
        {
          "output_type": "execute_result",
          "data": {
            "text/plain": [
              "                  0             1             2             3             4\n",
              "count  8.000000e+00  8.000000e+00  8.000000e+00  8.000000e+00  8.000000e+00\n",
              "mean  -2.775558e-17 -5.551115e-17 -2.775558e-17  1.144917e-16  2.914335e-16\n",
              "std    1.069045e+00  1.069045e+00  1.069045e+00  1.069045e+00  1.069045e+00\n",
              "min   -7.745967e-01 -5.773503e-01 -7.745967e-01 -1.901801e+00 -1.420464e+00\n",
              "25%   -7.745967e-01 -5.773503e-01 -7.745967e-01 -4.134350e-01 -6.929961e-01\n",
              "50%   -7.745967e-01 -5.773503e-01 -7.745967e-01 -1.028546e-01 -1.889989e-01\n",
              "75%    1.290994e+00  0.000000e+00  1.290994e+00  7.119150e-01  7.833352e-01\n",
              "max    1.290994e+00  1.732051e+00  1.290994e+00  1.437947e+00  1.574991e+00"
            ],
            "text/html": [
              "\n",
              "  <div id=\"df-8d23f7ae-ee6c-4157-a330-cfd734ae19a9\">\n",
              "    <div class=\"colab-df-container\">\n",
              "      <div>\n",
              "<style scoped>\n",
              "    .dataframe tbody tr th:only-of-type {\n",
              "        vertical-align: middle;\n",
              "    }\n",
              "\n",
              "    .dataframe tbody tr th {\n",
              "        vertical-align: top;\n",
              "    }\n",
              "\n",
              "    .dataframe thead th {\n",
              "        text-align: right;\n",
              "    }\n",
              "</style>\n",
              "<table border=\"1\" class=\"dataframe\">\n",
              "  <thead>\n",
              "    <tr style=\"text-align: right;\">\n",
              "      <th></th>\n",
              "      <th>0</th>\n",
              "      <th>1</th>\n",
              "      <th>2</th>\n",
              "      <th>3</th>\n",
              "      <th>4</th>\n",
              "    </tr>\n",
              "  </thead>\n",
              "  <tbody>\n",
              "    <tr>\n",
              "      <th>count</th>\n",
              "      <td>8.000000e+00</td>\n",
              "      <td>8.000000e+00</td>\n",
              "      <td>8.000000e+00</td>\n",
              "      <td>8.000000e+00</td>\n",
              "      <td>8.000000e+00</td>\n",
              "    </tr>\n",
              "    <tr>\n",
              "      <th>mean</th>\n",
              "      <td>-2.775558e-17</td>\n",
              "      <td>-5.551115e-17</td>\n",
              "      <td>-2.775558e-17</td>\n",
              "      <td>1.144917e-16</td>\n",
              "      <td>2.914335e-16</td>\n",
              "    </tr>\n",
              "    <tr>\n",
              "      <th>std</th>\n",
              "      <td>1.069045e+00</td>\n",
              "      <td>1.069045e+00</td>\n",
              "      <td>1.069045e+00</td>\n",
              "      <td>1.069045e+00</td>\n",
              "      <td>1.069045e+00</td>\n",
              "    </tr>\n",
              "    <tr>\n",
              "      <th>min</th>\n",
              "      <td>-7.745967e-01</td>\n",
              "      <td>-5.773503e-01</td>\n",
              "      <td>-7.745967e-01</td>\n",
              "      <td>-1.901801e+00</td>\n",
              "      <td>-1.420464e+00</td>\n",
              "    </tr>\n",
              "    <tr>\n",
              "      <th>25%</th>\n",
              "      <td>-7.745967e-01</td>\n",
              "      <td>-5.773503e-01</td>\n",
              "      <td>-7.745967e-01</td>\n",
              "      <td>-4.134350e-01</td>\n",
              "      <td>-6.929961e-01</td>\n",
              "    </tr>\n",
              "    <tr>\n",
              "      <th>50%</th>\n",
              "      <td>-7.745967e-01</td>\n",
              "      <td>-5.773503e-01</td>\n",
              "      <td>-7.745967e-01</td>\n",
              "      <td>-1.028546e-01</td>\n",
              "      <td>-1.889989e-01</td>\n",
              "    </tr>\n",
              "    <tr>\n",
              "      <th>75%</th>\n",
              "      <td>1.290994e+00</td>\n",
              "      <td>0.000000e+00</td>\n",
              "      <td>1.290994e+00</td>\n",
              "      <td>7.119150e-01</td>\n",
              "      <td>7.833352e-01</td>\n",
              "    </tr>\n",
              "    <tr>\n",
              "      <th>max</th>\n",
              "      <td>1.290994e+00</td>\n",
              "      <td>1.732051e+00</td>\n",
              "      <td>1.290994e+00</td>\n",
              "      <td>1.437947e+00</td>\n",
              "      <td>1.574991e+00</td>\n",
              "    </tr>\n",
              "  </tbody>\n",
              "</table>\n",
              "</div>\n",
              "      <button class=\"colab-df-convert\" onclick=\"convertToInteractive('df-8d23f7ae-ee6c-4157-a330-cfd734ae19a9')\"\n",
              "              title=\"Convert this dataframe to an interactive table.\"\n",
              "              style=\"display:none;\">\n",
              "        \n",
              "  <svg xmlns=\"http://www.w3.org/2000/svg\" height=\"24px\"viewBox=\"0 0 24 24\"\n",
              "       width=\"24px\">\n",
              "    <path d=\"M0 0h24v24H0V0z\" fill=\"none\"/>\n",
              "    <path d=\"M18.56 5.44l.94 2.06.94-2.06 2.06-.94-2.06-.94-.94-2.06-.94 2.06-2.06.94zm-11 1L8.5 8.5l.94-2.06 2.06-.94-2.06-.94L8.5 2.5l-.94 2.06-2.06.94zm10 10l.94 2.06.94-2.06 2.06-.94-2.06-.94-.94-2.06-.94 2.06-2.06.94z\"/><path d=\"M17.41 7.96l-1.37-1.37c-.4-.4-.92-.59-1.43-.59-.52 0-1.04.2-1.43.59L10.3 9.45l-7.72 7.72c-.78.78-.78 2.05 0 2.83L4 21.41c.39.39.9.59 1.41.59.51 0 1.02-.2 1.41-.59l7.78-7.78 2.81-2.81c.8-.78.8-2.07 0-2.86zM5.41 20L4 18.59l7.72-7.72 1.47 1.35L5.41 20z\"/>\n",
              "  </svg>\n",
              "      </button>\n",
              "      \n",
              "  <style>\n",
              "    .colab-df-container {\n",
              "      display:flex;\n",
              "      flex-wrap:wrap;\n",
              "      gap: 12px;\n",
              "    }\n",
              "\n",
              "    .colab-df-convert {\n",
              "      background-color: #E8F0FE;\n",
              "      border: none;\n",
              "      border-radius: 50%;\n",
              "      cursor: pointer;\n",
              "      display: none;\n",
              "      fill: #1967D2;\n",
              "      height: 32px;\n",
              "      padding: 0 0 0 0;\n",
              "      width: 32px;\n",
              "    }\n",
              "\n",
              "    .colab-df-convert:hover {\n",
              "      background-color: #E2EBFA;\n",
              "      box-shadow: 0px 1px 2px rgba(60, 64, 67, 0.3), 0px 1px 3px 1px rgba(60, 64, 67, 0.15);\n",
              "      fill: #174EA6;\n",
              "    }\n",
              "\n",
              "    [theme=dark] .colab-df-convert {\n",
              "      background-color: #3B4455;\n",
              "      fill: #D2E3FC;\n",
              "    }\n",
              "\n",
              "    [theme=dark] .colab-df-convert:hover {\n",
              "      background-color: #434B5C;\n",
              "      box-shadow: 0px 1px 3px 1px rgba(0, 0, 0, 0.15);\n",
              "      filter: drop-shadow(0px 1px 2px rgba(0, 0, 0, 0.3));\n",
              "      fill: #FFFFFF;\n",
              "    }\n",
              "  </style>\n",
              "\n",
              "      <script>\n",
              "        const buttonEl =\n",
              "          document.querySelector('#df-8d23f7ae-ee6c-4157-a330-cfd734ae19a9 button.colab-df-convert');\n",
              "        buttonEl.style.display =\n",
              "          google.colab.kernel.accessAllowed ? 'block' : 'none';\n",
              "\n",
              "        async function convertToInteractive(key) {\n",
              "          const element = document.querySelector('#df-8d23f7ae-ee6c-4157-a330-cfd734ae19a9');\n",
              "          const dataTable =\n",
              "            await google.colab.kernel.invokeFunction('convertToInteractive',\n",
              "                                                     [key], {});\n",
              "          if (!dataTable) return;\n",
              "\n",
              "          const docLinkHtml = 'Like what you see? Visit the ' +\n",
              "            '<a target=\"_blank\" href=https://colab.research.google.com/notebooks/data_table.ipynb>data table notebook</a>'\n",
              "            + ' to learn more about interactive tables.';\n",
              "          element.innerHTML = '';\n",
              "          dataTable['output_type'] = 'display_data';\n",
              "          await google.colab.output.renderOutput(dataTable, element);\n",
              "          const docLink = document.createElement('div');\n",
              "          docLink.innerHTML = docLinkHtml;\n",
              "          element.appendChild(docLink);\n",
              "        }\n",
              "      </script>\n",
              "    </div>\n",
              "  </div>\n",
              "  "
            ]
          },
          "metadata": {},
          "execution_count": 82
        }
      ]
    },
    {
      "cell_type": "code",
      "source": [
        "df = pd.DataFrame(X_train_normal)"
      ],
      "metadata": {
        "id": "6Cij52dkG2ol"
      },
      "execution_count": null,
      "outputs": []
    },
    {
      "cell_type": "code",
      "source": [
        "df.describe()"
      ],
      "metadata": {
        "id": "kQb3FuxKG8hU",
        "outputId": "3c5d8a38-c8e0-4e8a-a1ff-d6bb2ff90c0f",
        "colab": {
          "base_uri": "https://localhost:8080/",
          "height": 300
        }
      },
      "execution_count": null,
      "outputs": [
        {
          "output_type": "execute_result",
          "data": {
            "text/plain": [
              "              0         1         2         3             4\n",
              "count  8.000000  8.000000  8.000000  8.000000  8.000000e+00\n",
              "mean   0.000005  0.000003  0.000007  0.000623  9.999998e-01\n",
              "std    0.000008  0.000006  0.000010  0.000053  3.543250e-08\n",
              "min    0.000000  0.000000  0.000000  0.000562  9.999997e-01\n",
              "25%    0.000000  0.000000  0.000000  0.000603  9.999998e-01\n",
              "50%    0.000000  0.000000  0.000000  0.000609  9.999998e-01\n",
              "75%    0.000013  0.000003  0.000017  0.000624  9.999998e-01\n",
              "max    0.000017  0.000016  0.000021  0.000746  9.999998e-01"
            ],
            "text/html": [
              "\n",
              "  <div id=\"df-9d1522c9-1172-415d-b8b6-d33a27e7822a\">\n",
              "    <div class=\"colab-df-container\">\n",
              "      <div>\n",
              "<style scoped>\n",
              "    .dataframe tbody tr th:only-of-type {\n",
              "        vertical-align: middle;\n",
              "    }\n",
              "\n",
              "    .dataframe tbody tr th {\n",
              "        vertical-align: top;\n",
              "    }\n",
              "\n",
              "    .dataframe thead th {\n",
              "        text-align: right;\n",
              "    }\n",
              "</style>\n",
              "<table border=\"1\" class=\"dataframe\">\n",
              "  <thead>\n",
              "    <tr style=\"text-align: right;\">\n",
              "      <th></th>\n",
              "      <th>0</th>\n",
              "      <th>1</th>\n",
              "      <th>2</th>\n",
              "      <th>3</th>\n",
              "      <th>4</th>\n",
              "    </tr>\n",
              "  </thead>\n",
              "  <tbody>\n",
              "    <tr>\n",
              "      <th>count</th>\n",
              "      <td>8.000000</td>\n",
              "      <td>8.000000</td>\n",
              "      <td>8.000000</td>\n",
              "      <td>8.000000</td>\n",
              "      <td>8.000000e+00</td>\n",
              "    </tr>\n",
              "    <tr>\n",
              "      <th>mean</th>\n",
              "      <td>0.000005</td>\n",
              "      <td>0.000003</td>\n",
              "      <td>0.000007</td>\n",
              "      <td>0.000623</td>\n",
              "      <td>9.999998e-01</td>\n",
              "    </tr>\n",
              "    <tr>\n",
              "      <th>std</th>\n",
              "      <td>0.000008</td>\n",
              "      <td>0.000006</td>\n",
              "      <td>0.000010</td>\n",
              "      <td>0.000053</td>\n",
              "      <td>3.543250e-08</td>\n",
              "    </tr>\n",
              "    <tr>\n",
              "      <th>min</th>\n",
              "      <td>0.000000</td>\n",
              "      <td>0.000000</td>\n",
              "      <td>0.000000</td>\n",
              "      <td>0.000562</td>\n",
              "      <td>9.999997e-01</td>\n",
              "    </tr>\n",
              "    <tr>\n",
              "      <th>25%</th>\n",
              "      <td>0.000000</td>\n",
              "      <td>0.000000</td>\n",
              "      <td>0.000000</td>\n",
              "      <td>0.000603</td>\n",
              "      <td>9.999998e-01</td>\n",
              "    </tr>\n",
              "    <tr>\n",
              "      <th>50%</th>\n",
              "      <td>0.000000</td>\n",
              "      <td>0.000000</td>\n",
              "      <td>0.000000</td>\n",
              "      <td>0.000609</td>\n",
              "      <td>9.999998e-01</td>\n",
              "    </tr>\n",
              "    <tr>\n",
              "      <th>75%</th>\n",
              "      <td>0.000013</td>\n",
              "      <td>0.000003</td>\n",
              "      <td>0.000017</td>\n",
              "      <td>0.000624</td>\n",
              "      <td>9.999998e-01</td>\n",
              "    </tr>\n",
              "    <tr>\n",
              "      <th>max</th>\n",
              "      <td>0.000017</td>\n",
              "      <td>0.000016</td>\n",
              "      <td>0.000021</td>\n",
              "      <td>0.000746</td>\n",
              "      <td>9.999998e-01</td>\n",
              "    </tr>\n",
              "  </tbody>\n",
              "</table>\n",
              "</div>\n",
              "      <button class=\"colab-df-convert\" onclick=\"convertToInteractive('df-9d1522c9-1172-415d-b8b6-d33a27e7822a')\"\n",
              "              title=\"Convert this dataframe to an interactive table.\"\n",
              "              style=\"display:none;\">\n",
              "        \n",
              "  <svg xmlns=\"http://www.w3.org/2000/svg\" height=\"24px\"viewBox=\"0 0 24 24\"\n",
              "       width=\"24px\">\n",
              "    <path d=\"M0 0h24v24H0V0z\" fill=\"none\"/>\n",
              "    <path d=\"M18.56 5.44l.94 2.06.94-2.06 2.06-.94-2.06-.94-.94-2.06-.94 2.06-2.06.94zm-11 1L8.5 8.5l.94-2.06 2.06-.94-2.06-.94L8.5 2.5l-.94 2.06-2.06.94zm10 10l.94 2.06.94-2.06 2.06-.94-2.06-.94-.94-2.06-.94 2.06-2.06.94z\"/><path d=\"M17.41 7.96l-1.37-1.37c-.4-.4-.92-.59-1.43-.59-.52 0-1.04.2-1.43.59L10.3 9.45l-7.72 7.72c-.78.78-.78 2.05 0 2.83L4 21.41c.39.39.9.59 1.41.59.51 0 1.02-.2 1.41-.59l7.78-7.78 2.81-2.81c.8-.78.8-2.07 0-2.86zM5.41 20L4 18.59l7.72-7.72 1.47 1.35L5.41 20z\"/>\n",
              "  </svg>\n",
              "      </button>\n",
              "      \n",
              "  <style>\n",
              "    .colab-df-container {\n",
              "      display:flex;\n",
              "      flex-wrap:wrap;\n",
              "      gap: 12px;\n",
              "    }\n",
              "\n",
              "    .colab-df-convert {\n",
              "      background-color: #E8F0FE;\n",
              "      border: none;\n",
              "      border-radius: 50%;\n",
              "      cursor: pointer;\n",
              "      display: none;\n",
              "      fill: #1967D2;\n",
              "      height: 32px;\n",
              "      padding: 0 0 0 0;\n",
              "      width: 32px;\n",
              "    }\n",
              "\n",
              "    .colab-df-convert:hover {\n",
              "      background-color: #E2EBFA;\n",
              "      box-shadow: 0px 1px 2px rgba(60, 64, 67, 0.3), 0px 1px 3px 1px rgba(60, 64, 67, 0.15);\n",
              "      fill: #174EA6;\n",
              "    }\n",
              "\n",
              "    [theme=dark] .colab-df-convert {\n",
              "      background-color: #3B4455;\n",
              "      fill: #D2E3FC;\n",
              "    }\n",
              "\n",
              "    [theme=dark] .colab-df-convert:hover {\n",
              "      background-color: #434B5C;\n",
              "      box-shadow: 0px 1px 3px 1px rgba(0, 0, 0, 0.15);\n",
              "      filter: drop-shadow(0px 1px 2px rgba(0, 0, 0, 0.3));\n",
              "      fill: #FFFFFF;\n",
              "    }\n",
              "  </style>\n",
              "\n",
              "      <script>\n",
              "        const buttonEl =\n",
              "          document.querySelector('#df-9d1522c9-1172-415d-b8b6-d33a27e7822a button.colab-df-convert');\n",
              "        buttonEl.style.display =\n",
              "          google.colab.kernel.accessAllowed ? 'block' : 'none';\n",
              "\n",
              "        async function convertToInteractive(key) {\n",
              "          const element = document.querySelector('#df-9d1522c9-1172-415d-b8b6-d33a27e7822a');\n",
              "          const dataTable =\n",
              "            await google.colab.kernel.invokeFunction('convertToInteractive',\n",
              "                                                     [key], {});\n",
              "          if (!dataTable) return;\n",
              "\n",
              "          const docLinkHtml = 'Like what you see? Visit the ' +\n",
              "            '<a target=\"_blank\" href=https://colab.research.google.com/notebooks/data_table.ipynb>data table notebook</a>'\n",
              "            + ' to learn more about interactive tables.';\n",
              "          element.innerHTML = '';\n",
              "          dataTable['output_type'] = 'display_data';\n",
              "          await google.colab.output.renderOutput(dataTable, element);\n",
              "          const docLink = document.createElement('div');\n",
              "          docLink.innerHTML = docLinkHtml;\n",
              "          element.appendChild(docLink);\n",
              "        }\n",
              "      </script>\n",
              "    </div>\n",
              "  </div>\n",
              "  "
            ]
          },
          "metadata": {},
          "execution_count": 84
        }
      ]
    }
  ]
}